{
 "cells": [
  {
   "cell_type": "code",
   "execution_count": 585,
   "metadata": {
    "collapsed": true
   },
   "outputs": [],
   "source": [
    "import pandas as pd\n",
    "from sklearn import model_selection\n",
    "import matplotlib.pyplot as plt"
   ]
  },
  {
   "cell_type": "code",
   "execution_count": 586,
   "metadata": {},
   "outputs": [
    {
     "name": "stdout",
     "output_type": "stream",
     "text": [
      "     Q1  Q2  Q3  Q4  Q5  Q6  Q7  Q8  Q9  Q10 Class\n",
      "0     1   1   1   1   0   0   1   1   0    0    NO\n",
      "1     1   1   0   1   0   0   0   1   0    1    NO\n",
      "2     1   1   0   1   1   0   1   1   1    1   YES\n",
      "3     1   1   0   1   0   0   1   1   0    1    NO\n",
      "4     1   0   0   0   0   0   0   1   0    0    NO\n",
      "5     1   1   1   1   1   0   1   1   1    1   YES\n",
      "6     0   1   0   0   0   0   0   1   0    0    NO\n",
      "7     1   1   1   1   0   0   0   0   1    0    NO\n",
      "8     1   1   0   0   1   0   0   1   1    1    NO\n",
      "9     1   1   1   1   0   1   1   1   1    0   YES\n",
      "10    1   1   1   1   1   1   1   1   1    1   YES\n",
      "11    0   1   0   1   1   1   1   0   0    1    NO\n",
      "12    0   1   1   1   1   1   0   0   1    0    NO\n",
      "13    1   0   0   0   0   0   1   1   0    1    NO\n",
      "14    1   0   0   0   0   0   1   1   0    1    NO\n",
      "15    1   1   0   1   1   0   0   1   0    1    NO\n",
      "16    1   0   0   0   0   0   1   1   1    1    NO\n",
      "17    0   0   0   0   0   0   0   1   0    1    NO\n",
      "18    0   0   1   0   1   1   0   0   0    0    NO\n",
      "19    0   0   0   0   0   0   1   1   0    1    NO\n",
      "20    0   1   1   1   0   0   0   0   0    0    NO\n",
      "21    0   0   0   0   0   0   0   0   0    0    NO\n",
      "22    0   0   0   1   0   0   1   1   1    1    NO\n",
      "23    0   0   0   0   0   0   0   1   0    1    NO\n",
      "24    1   1   1   1   0   0   0   1   0    0    NO\n",
      "25    0   1   1   0   0   0   0   1   0    0    NO\n",
      "26    0   0   0   0   0   0   0   1   0    0    NO\n",
      "27    0   0   0   0   0   0   0   1   0    0    NO\n",
      "28    0   0   0   0   0   0   0   1   0    0    NO\n",
      "29    0   1   1   0   0   0   0   0   1    1    NO\n",
      "..   ..  ..  ..  ..  ..  ..  ..  ..  ..  ...   ...\n",
      "674   1   1   0   0   1   1   0   1   0    1    NO\n",
      "675   1   1   1   1   0   0   0   0   1    0    NO\n",
      "676   1   1   0   0   0   0   1   0   0    1    NO\n",
      "677   1   0   0   0   0   0   1   0   0    1    NO\n",
      "678   1   1   1   1   1   0   0   1   1    1   YES\n",
      "679   1   1   1   1   1   1   1   1   1    1   YES\n",
      "680   1   1   1   1   1   1   1   1   1    1   YES\n",
      "681   1   1   0   1   1   1   1   1   1    1   YES\n",
      "682   1   1   0   0   0   0   0   1   0    0    NO\n",
      "683   1   1   0   0   0   0   0   1   1    0    NO\n",
      "684   1   0   1   0   0   0   0   1   0    1    NO\n",
      "685   1   0   1   1   1   0   0   1   1    1   YES\n",
      "686   1   0   0   0   1   0   1   1   0    1    NO\n",
      "687   1   1   1   0   1   1   1   1   1    1   YES\n",
      "688   1   0   1   1   1   1   1   0   1    1   YES\n",
      "689   1   0   0   0   1   1   1   1   1    1   YES\n",
      "690   0   0   0   0   1   0   0   0   0    0    NO\n",
      "691   1   0   0   1   0   0   1   1   0    0    NO\n",
      "692   1   1   1   0   1   1   1   1   0    1   YES\n",
      "693   1   0   0   1   0   0   0   1   0    1    NO\n",
      "694   1   1   1   1   1   0   0   1   0    1   YES\n",
      "695   1   0   1   1   0   0   1   1   0    0    NO\n",
      "696   1   1   1   1   1   1   0   1   1    1   YES\n",
      "697   1   1   1   1   1   0   0   0   0    1    NO\n",
      "698   1   1   1   1   1   1   1   1   1    1   YES\n",
      "699   0   1   0   1   1   0   1   1   1    1   YES\n",
      "700   1   0   0   0   0   0   0   1   0    1    NO\n",
      "701   1   0   1   1   1   0   1   1   0    1   YES\n",
      "702   1   0   0   1   1   0   1   0   1    1    NO\n",
      "703   1   0   1   1   1   0   1   1   1    1   YES\n",
      "\n",
      "[704 rows x 11 columns]\n"
     ]
    }
   ],
   "source": [
    "data=pd.read_csv('/Users/Padma/Desktop/Mahit/science-fair-autism/Autism-Adult-Data-Processed2.csv')\n",
    "data = data.drop(\"Jaundice\", axis=1)\n",
    "data = data.drop(\"Total\", axis=1)\n",
    "data = data.drop(\"PDD\", axis=1)\n",
    "data = data.drop(\"Age\", axis=1)\n",
    "data = data.drop(\"Ethnicity\", axis=1)\n",
    "data = data.drop(\"Gender\", axis=1)\n",
    "print(data)"
   ]
  },
  {
   "cell_type": "code",
   "execution_count": 587,
   "metadata": {},
   "outputs": [
    {
     "name": "stdout",
     "output_type": "stream",
     "text": [
      "   Q1  Q2  Q3  Q4  Q5  Q6  Q7  Q8  Q9  Q10 Class\n",
      "0   1   1   1   1   0   0   1   1   0    0    NO\n",
      "1   1   1   0   1   0   0   0   1   0    1    NO\n",
      "2   1   1   0   1   1   0   1   1   1    1   YES\n",
      "3   1   1   0   1   0   0   1   1   0    1    NO\n",
      "4   1   0   0   0   0   0   0   1   0    0    NO\n"
     ]
    }
   ],
   "source": [
    "print (data.head())"
   ]
  },
  {
   "cell_type": "code",
   "execution_count": 588,
   "metadata": {},
   "outputs": [
    {
     "name": "stdout",
     "output_type": "stream",
     "text": [
      "Q1        int64\n",
      "Q2        int64\n",
      "Q3        int64\n",
      "Q4        int64\n",
      "Q5        int64\n",
      "Q6        int64\n",
      "Q7        int64\n",
      "Q8        int64\n",
      "Q9        int64\n",
      "Q10       int64\n",
      "Class    object\n",
      "dtype: object\n"
     ]
    }
   ],
   "source": [
    "print (data.dtypes)"
   ]
  },
  {
   "cell_type": "code",
   "execution_count": 589,
   "metadata": {
    "collapsed": true
   },
   "outputs": [],
   "source": [
    "from sklearn.preprocessing import LabelEncoder\n",
    "label=LabelEncoder()"
   ]
  },
  {
   "cell_type": "code",
   "execution_count": 590,
   "metadata": {
    "collapsed": true
   },
   "outputs": [],
   "source": [
    "for column in data.columns.values:\n",
    "    if data[column].dtypes=='object':\n",
    "        data_le=data[column]\n",
    "        label.fit(data_le.values)\n",
    "        data[column]=label.transform(data[column])"
   ]
  },
  {
   "cell_type": "code",
   "execution_count": 591,
   "metadata": {},
   "outputs": [
    {
     "name": "stdout",
     "output_type": "stream",
     "text": [
      "Q1       int64\n",
      "Q2       int64\n",
      "Q3       int64\n",
      "Q4       int64\n",
      "Q5       int64\n",
      "Q6       int64\n",
      "Q7       int64\n",
      "Q8       int64\n",
      "Q9       int64\n",
      "Q10      int64\n",
      "Class    int64\n",
      "dtype: object\n"
     ]
    }
   ],
   "source": [
    "print (data.dtypes)"
   ]
  },
  {
   "cell_type": "code",
   "execution_count": 592,
   "metadata": {},
   "outputs": [
    {
     "name": "stdout",
     "output_type": "stream",
     "text": [
      "   Q1  Q2  Q3  Q4  Q5  Q6  Q7  Q8  Q9  Q10  Class\n",
      "0   1   1   1   1   0   0   1   1   0    0      0\n",
      "1   1   1   0   1   0   0   0   1   0    1      0\n",
      "2   1   1   0   1   1   0   1   1   1    1      1\n",
      "3   1   1   0   1   0   0   1   1   0    1      0\n",
      "4   1   0   0   0   0   0   0   1   0    0      0\n"
     ]
    }
   ],
   "source": [
    "print(data.head())"
   ]
  },
  {
   "cell_type": "code",
   "execution_count": 593,
   "metadata": {},
   "outputs": [
    {
     "name": "stdout",
     "output_type": "stream",
     "text": [
      "     Q1  Q2  Q3  Q4  Q5  Q6  Q7  Q8  Q9  Q10  Class\n",
      "0     1   1   1   1   0   0   1   1   0    0      0\n",
      "1     1   1   0   1   0   0   0   1   0    1      0\n",
      "2     1   1   0   1   1   0   1   1   1    1      1\n",
      "3     1   1   0   1   0   0   1   1   0    1      0\n",
      "4     1   0   0   0   0   0   0   1   0    0      0\n",
      "5     1   1   1   1   1   0   1   1   1    1      1\n",
      "6     0   1   0   0   0   0   0   1   0    0      0\n",
      "7     1   1   1   1   0   0   0   0   1    0      0\n",
      "8     1   1   0   0   1   0   0   1   1    1      0\n",
      "9     1   1   1   1   0   1   1   1   1    0      1\n",
      "10    1   1   1   1   1   1   1   1   1    1      1\n",
      "11    0   1   0   1   1   1   1   0   0    1      0\n",
      "12    0   1   1   1   1   1   0   0   1    0      0\n",
      "13    1   0   0   0   0   0   1   1   0    1      0\n",
      "14    1   0   0   0   0   0   1   1   0    1      0\n",
      "15    1   1   0   1   1   0   0   1   0    1      0\n",
      "16    1   0   0   0   0   0   1   1   1    1      0\n",
      "17    0   0   0   0   0   0   0   1   0    1      0\n",
      "18    0   0   1   0   1   1   0   0   0    0      0\n",
      "19    0   0   0   0   0   0   1   1   0    1      0\n",
      "20    0   1   1   1   0   0   0   0   0    0      0\n",
      "21    0   0   0   0   0   0   0   0   0    0      0\n",
      "22    0   0   0   1   0   0   1   1   1    1      0\n",
      "23    0   0   0   0   0   0   0   1   0    1      0\n",
      "24    1   1   1   1   0   0   0   1   0    0      0\n",
      "25    0   1   1   0   0   0   0   1   0    0      0\n",
      "26    0   0   0   0   0   0   0   1   0    0      0\n",
      "27    0   0   0   0   0   0   0   1   0    0      0\n",
      "28    0   0   0   0   0   0   0   1   0    0      0\n",
      "29    0   1   1   0   0   0   0   0   1    1      0\n",
      "..   ..  ..  ..  ..  ..  ..  ..  ..  ..  ...    ...\n",
      "674   1   1   0   0   1   1   0   1   0    1      0\n",
      "675   1   1   1   1   0   0   0   0   1    0      0\n",
      "676   1   1   0   0   0   0   1   0   0    1      0\n",
      "677   1   0   0   0   0   0   1   0   0    1      0\n",
      "678   1   1   1   1   1   0   0   1   1    1      1\n",
      "679   1   1   1   1   1   1   1   1   1    1      1\n",
      "680   1   1   1   1   1   1   1   1   1    1      1\n",
      "681   1   1   0   1   1   1   1   1   1    1      1\n",
      "682   1   1   0   0   0   0   0   1   0    0      0\n",
      "683   1   1   0   0   0   0   0   1   1    0      0\n",
      "684   1   0   1   0   0   0   0   1   0    1      0\n",
      "685   1   0   1   1   1   0   0   1   1    1      1\n",
      "686   1   0   0   0   1   0   1   1   0    1      0\n",
      "687   1   1   1   0   1   1   1   1   1    1      1\n",
      "688   1   0   1   1   1   1   1   0   1    1      1\n",
      "689   1   0   0   0   1   1   1   1   1    1      1\n",
      "690   0   0   0   0   1   0   0   0   0    0      0\n",
      "691   1   0   0   1   0   0   1   1   0    0      0\n",
      "692   1   1   1   0   1   1   1   1   0    1      1\n",
      "693   1   0   0   1   0   0   0   1   0    1      0\n",
      "694   1   1   1   1   1   0   0   1   0    1      1\n",
      "695   1   0   1   1   0   0   1   1   0    0      0\n",
      "696   1   1   1   1   1   1   0   1   1    1      1\n",
      "697   1   1   1   1   1   0   0   0   0    1      0\n",
      "698   1   1   1   1   1   1   1   1   1    1      1\n",
      "699   0   1   0   1   1   0   1   1   1    1      1\n",
      "700   1   0   0   0   0   0   0   1   0    1      0\n",
      "701   1   0   1   1   1   0   1   1   0    1      1\n",
      "702   1   0   0   1   1   0   1   0   1    1      0\n",
      "703   1   0   1   1   1   0   1   1   1    1      1\n",
      "\n",
      "[704 rows x 11 columns]\n"
     ]
    }
   ],
   "source": [
    "print (data)"
   ]
  },
  {
   "cell_type": "code",
   "execution_count": 594,
   "metadata": {},
   "outputs": [
    {
     "name": "stdout",
     "output_type": "stream",
     "text": [
      "     Q1  Q2  Q3  Q4  Q5  Q6  Q7  Q8  Q9  Q10  Class\n",
      "699   0   1   0   1   1   0   1   1   1    1      1\n",
      "700   1   0   0   0   0   0   0   1   0    1      0\n",
      "701   1   0   1   1   1   0   1   1   0    1      1\n",
      "702   1   0   0   1   1   0   1   0   1    1      0\n",
      "703   1   0   1   1   1   0   1   1   1    1      1\n"
     ]
    }
   ],
   "source": [
    "print (data.tail())"
   ]
  },
  {
   "cell_type": "code",
   "execution_count": 595,
   "metadata": {
    "scrolled": true
   },
   "outputs": [
    {
     "name": "stdout",
     "output_type": "stream",
     "text": [
      "(704, 11)\n"
     ]
    }
   ],
   "source": [
    "print (data.shape)"
   ]
  },
  {
   "cell_type": "code",
   "execution_count": 596,
   "metadata": {},
   "outputs": [
    {
     "name": "stdout",
     "output_type": "stream",
     "text": [
      "Class\n",
      "0    515\n",
      "1    189\n",
      "dtype: int64\n"
     ]
    }
   ],
   "source": [
    "print (data.groupby('Class').size())"
   ]
  },
  {
   "cell_type": "code",
   "execution_count": 597,
   "metadata": {},
   "outputs": [
    {
     "data": {
      "image/png": "[encoded data removed]",
      "text/plain": [
       "<matplotlib.figure.Figure at 0x1a24037400>"
      ]
     },
     "metadata": {},
     "output_type": "display_data"
    }
   ],
   "source": [
    "data.plot(kind='box', subplots=True, layout=(5,4), sharex=False, sharey=False)\n",
    "plt.show()"
   ]
  },
  {
   "cell_type": "code",
   "execution_count": 598,
   "metadata": {
    "scrolled": true
   },
   "outputs": [
    {
     "data": {
      "image/png": "[encoded data removed]",
      "text/plain": [
       "<matplotlib.figure.Figure at 0x1a22560ba8>"
      ]
     },
     "metadata": {},
     "output_type": "display_data"
    }
   ],
   "source": [
    "data.hist()\n",
    "plt.show()"
   ]
  },
  {
   "cell_type": "code",
   "execution_count": 599,
   "metadata": {
    "scrolled": false
   },
   "outputs": [
    {
     "name": "stdout",
     "output_type": "stream",
     "text": [
      "     Q1  Q2  Q3  Q4  Q5  Q6  Q7  Q8  Q9  Q10  Class\n",
      "0     1   1   1   1   0   0   1   1   0    0      0\n",
      "1     1   1   0   1   0   0   0   1   0    1      0\n",
      "2     1   1   0   1   1   0   1   1   1    1      1\n",
      "3     1   1   0   1   0   0   1   1   0    1      0\n",
      "4     1   0   0   0   0   0   0   1   0    0      0\n",
      "5     1   1   1   1   1   0   1   1   1    1      1\n",
      "6     0   1   0   0   0   0   0   1   0    0      0\n",
      "7     1   1   1   1   0   0   0   0   1    0      0\n",
      "8     1   1   0   0   1   0   0   1   1    1      0\n",
      "9     1   1   1   1   0   1   1   1   1    0      1\n",
      "10    1   1   1   1   1   1   1   1   1    1      1\n",
      "11    0   1   0   1   1   1   1   0   0    1      0\n",
      "12    0   1   1   1   1   1   0   0   1    0      0\n",
      "13    1   0   0   0   0   0   1   1   0    1      0\n",
      "14    1   0   0   0   0   0   1   1   0    1      0\n",
      "15    1   1   0   1   1   0   0   1   0    1      0\n",
      "16    1   0   0   0   0   0   1   1   1    1      0\n",
      "17    0   0   0   0   0   0   0   1   0    1      0\n",
      "18    0   0   1   0   1   1   0   0   0    0      0\n",
      "19    0   0   0   0   0   0   1   1   0    1      0\n",
      "20    0   1   1   1   0   0   0   0   0    0      0\n",
      "21    0   0   0   0   0   0   0   0   0    0      0\n",
      "22    0   0   0   1   0   0   1   1   1    1      0\n",
      "23    0   0   0   0   0   0   0   1   0    1      0\n",
      "24    1   1   1   1   0   0   0   1   0    0      0\n",
      "25    0   1   1   0   0   0   0   1   0    0      0\n",
      "26    0   0   0   0   0   0   0   1   0    0      0\n",
      "27    0   0   0   0   0   0   0   1   0    0      0\n",
      "28    0   0   0   0   0   0   0   1   0    0      0\n",
      "29    0   1   1   0   0   0   0   0   1    1      0\n",
      "..   ..  ..  ..  ..  ..  ..  ..  ..  ..  ...    ...\n",
      "674   1   1   0   0   1   1   0   1   0    1      0\n",
      "675   1   1   1   1   0   0   0   0   1    0      0\n",
      "676   1   1   0   0   0   0   1   0   0    1      0\n",
      "677   1   0   0   0   0   0   1   0   0    1      0\n",
      "678   1   1   1   1   1   0   0   1   1    1      1\n",
      "679   1   1   1   1   1   1   1   1   1    1      1\n",
      "680   1   1   1   1   1   1   1   1   1    1      1\n",
      "681   1   1   0   1   1   1   1   1   1    1      1\n",
      "682   1   1   0   0   0   0   0   1   0    0      0\n",
      "683   1   1   0   0   0   0   0   1   1    0      0\n",
      "684   1   0   1   0   0   0   0   1   0    1      0\n",
      "685   1   0   1   1   1   0   0   1   1    1      1\n",
      "686   1   0   0   0   1   0   1   1   0    1      0\n",
      "687   1   1   1   0   1   1   1   1   1    1      1\n",
      "688   1   0   1   1   1   1   1   0   1    1      1\n",
      "689   1   0   0   0   1   1   1   1   1    1      1\n",
      "690   0   0   0   0   1   0   0   0   0    0      0\n",
      "691   1   0   0   1   0   0   1   1   0    0      0\n",
      "692   1   1   1   0   1   1   1   1   0    1      1\n",
      "693   1   0   0   1   0   0   0   1   0    1      0\n",
      "694   1   1   1   1   1   0   0   1   0    1      1\n",
      "695   1   0   1   1   0   0   1   1   0    0      0\n",
      "696   1   1   1   1   1   1   0   1   1    1      1\n",
      "697   1   1   1   1   1   0   0   0   0    1      0\n",
      "698   1   1   1   1   1   1   1   1   1    1      1\n",
      "699   0   1   0   1   1   0   1   1   1    1      1\n",
      "700   1   0   0   0   0   0   0   1   0    1      0\n",
      "701   1   0   1   1   1   0   1   1   0    1      1\n",
      "702   1   0   0   1   1   0   1   0   1    1      0\n",
      "703   1   0   1   1   1   0   1   1   1    1      1\n",
      "\n",
      "[704 rows x 11 columns]\n"
     ]
    }
   ],
   "source": [
    "print (data)"
   ]
  },
  {
   "cell_type": "code",
   "execution_count": 600,
   "metadata": {},
   "outputs": [
    {
     "name": "stdout",
     "output_type": "stream",
     "text": [
      "(704, 11)\n"
     ]
    }
   ],
   "source": [
    "array = data.values\n",
    "print (array.shape)"
   ]
  },
  {
   "cell_type": "code",
   "execution_count": 606,
   "metadata": {},
   "outputs": [],
   "source": [
    "X = array[:,0:9]\n",
    "Y = array[:,10]"
   ]
  },
  {
   "cell_type": "code",
   "execution_count": 607,
   "metadata": {},
   "outputs": [
    {
     "name": "stdout",
     "output_type": "stream",
     "text": [
      "[[1 1 1 ..., 1 1 0]\n",
      " [1 1 0 ..., 0 1 0]\n",
      " [1 1 0 ..., 1 1 1]\n",
      " ..., \n",
      " [1 0 1 ..., 1 1 0]\n",
      " [1 0 0 ..., 1 0 1]\n",
      " [1 0 1 ..., 1 1 1]]\n"
     ]
    }
   ],
   "source": [
    "print (X)"
   ]
  },
  {
   "cell_type": "code",
   "execution_count": 608,
   "metadata": {},
   "outputs": [
    {
     "name": "stdout",
     "output_type": "stream",
     "text": [
      "[0 0 1 0 0 1 0 0 0 1 1 0 0 0 0 0 0 0 0 0 0 0 0 0 0 0 0 0 0 0 0 1 0 1 1 0 0\n",
      " 0 1 1 1 0 0 0 1 1 0 0 0 0 0 1 0 1 1 1 1 1 0 0 1 1 0 0 1 0 0 0 0 0 0 0 0 0\n",
      " 0 1 0 1 0 0 0 0 1 0 0 0 1 0 0 1 0 0 0 1 1 0 0 0 0 0 0 0 0 0 0 0 0 1 0 0 1\n",
      " 0 0 0 1 1 1 0 1 1 1 1 0 1 1 1 0 0 0 0 0 0 0 0 0 0 0 0 0 0 0 0 0 0 0 1 1 1\n",
      " 1 1 0 1 0 0 0 0 0 0 0 0 0 0 0 0 0 0 0 0 0 1 0 0 0 0 0 0 1 0 0 0 0 0 0 0 0\n",
      " 1 0 0 1 0 1 0 0 0 0 1 1 1 1 0 1 0 1 1 0 1 1 1 0 1 1 0 0 0 0 1 0 0 1 0 0 0\n",
      " 0 1 1 0 1 0 0 1 0 0 0 0 0 0 0 0 0 0 0 0 0 0 0 0 0 0 0 1 0 0 0 0 0 0 0 0 0\n",
      " 0 0 0 0 0 0 1 0 0 0 0 1 1 1 0 0 0 0 0 1 0 0 1 1 1 0 0 0 0 0 1 1 1 0 0 0 1\n",
      " 1 1 0 1 0 1 0 0 0 0 1 1 1 1 0 0 1 1 0 0 0 0 0 0 0 0 1 0 0 0 0 0 0 0 0 1 1\n",
      " 0 0 0 0 0 0 0 0 0 0 0 0 0 0 0 1 0 1 0 0 0 0 0 0 0 0 0 0 0 0 0 0 0 0 0 0 0\n",
      " 0 0 0 0 0 0 0 0 0 0 0 0 1 0 0 0 0 0 0 0 0 0 0 0 0 0 0 0 0 0 0 0 0 0 0 0 0\n",
      " 1 0 0 0 0 0 0 1 0 0 0 0 0 0 0 0 0 0 0 1 0 0 0 1 1 0 1 0 0 0 0 0 0 0 0 0 1\n",
      " 1 0 1 0 1 0 0 0 1 0 0 0 0 0 1 0 0 0 0 0 1 0 1 0 1 0 0 1 0 0 0 0 0 0 0 0 0\n",
      " 0 0 0 0 0 1 1 0 0 1 0 0 1 0 0 0 1 1 0 0 1 0 0 1 0 0 0 1 0 1 1 0 0 1 1 0 1\n",
      " 0 0 1 1 1 0 1 0 0 0 1 0 0 0 0 1 0 0 0 0 0 0 1 0 1 1 1 1 0 0 0 1 0 0 0 1 1\n",
      " 0 0 0 1 0 1 1 0 0 0 0 0 0 1 0 0 0 0 1 0 0 1 1 1 0 0 0 0 1 1 0 1 1 1 0 0 0\n",
      " 1 0 0 0 0 0 0 0 0 0 0 0 0 0 0 0 0 0 0 0 0 0 0 0 0 0 0 0 0 1 0 1 0 0 0 0 0\n",
      " 0 0 0 0 0 1 0 0 1 0 1 0 1 0 0 0 1 0 0 0 0 0 0 0 1 1 0 0 0 0 1 1 1 0 0 0 1\n",
      " 0 0 0 1 1 1 1 1 0 0 0 0 1 1 1 1 0 0 0 1 0 1 1 1 0 0 1 0 1 0 1 0 1 1 0 1 0\n",
      " 1]\n"
     ]
    }
   ],
   "source": [
    "print (Y)"
   ]
  },
  {
   "cell_type": "code",
   "execution_count": 609,
   "metadata": {},
   "outputs": [
    {
     "name": "stdout",
     "output_type": "stream",
     "text": [
      "(704,)\n"
     ]
    }
   ],
   "source": [
    "validation_size=0.20\n",
    "seed=7\n",
    "print(Y.shape)"
   ]
  },
  {
   "cell_type": "code",
   "execution_count": 610,
   "metadata": {
    "collapsed": true
   },
   "outputs": [],
   "source": [
    "X_train , X_validation, Y_train, Y_validation=model_selection.train_test_split(X,Y,test_size=validation_size, random_state=seed)"
   ]
  },
  {
   "cell_type": "code",
   "execution_count": 611,
   "metadata": {},
   "outputs": [
    {
     "name": "stdout",
     "output_type": "stream",
     "text": [
      "(563, 9)\n"
     ]
    }
   ],
   "source": [
    "print(X_train.shape)"
   ]
  },
  {
   "cell_type": "code",
   "execution_count": 612,
   "metadata": {},
   "outputs": [
    {
     "name": "stdout",
     "output_type": "stream",
     "text": [
      "(141, 9)\n"
     ]
    }
   ],
   "source": [
    "print(X_validation.shape)"
   ]
  },
  {
   "cell_type": "code",
   "execution_count": 613,
   "metadata": {
    "collapsed": true
   },
   "outputs": [],
   "source": [
    "from sklearn import linear_model\n",
    "from sklearn.metrics import accuracy_score\n",
    "from sklearn.metrics import confusion_matrix\n",
    "from sklearn.metrics import classification_report\n",
    "lgr=linear_model.LogisticRegression()"
   ]
  },
  {
   "cell_type": "code",
   "execution_count": 614,
   "metadata": {},
   "outputs": [
    {
     "data": {
      "text/plain": [
       "LogisticRegression(C=1.0, class_weight=None, dual=False, fit_intercept=True,\n",
       "          intercept_scaling=1, max_iter=100, multi_class='ovr', n_jobs=1,\n",
       "          penalty='l2', random_state=None, solver='liblinear', tol=0.0001,\n",
       "          verbose=0, warm_start=False)"
      ]
     },
     "execution_count": 614,
     "metadata": {},
     "output_type": "execute_result"
    }
   ],
   "source": [
    "lgr.fit(X_train, Y_train)"
   ]
  },
  {
   "cell_type": "code",
   "execution_count": 619,
   "metadata": {
    "collapsed": true
   },
   "outputs": [],
   "source": [
    "predictions=lgr.predict(X_validation)"
   ]
  },
  {
   "cell_type": "code",
   "execution_count": 620,
   "metadata": {},
   "outputs": [
    {
     "name": "stdout",
     "output_type": "stream",
     "text": [
      "1.0\n"
     ]
    }
   ],
   "source": [
    "print(accuracy_score(Y_validation,predictions))"
   ]
  },
  {
   "cell_type": "code",
   "execution_count": 621,
   "metadata": {},
   "outputs": [
    {
     "name": "stdout",
     "output_type": "stream",
     "text": [
      "[[97  0]\n",
      " [ 0 44]]\n"
     ]
    }
   ],
   "source": [
    "print(confusion_matrix(Y_validation,predictions))"
   ]
  },
  {
   "cell_type": "code",
   "execution_count": 622,
   "metadata": {},
   "outputs": [
    {
     "name": "stdout",
     "output_type": "stream",
     "text": [
      "             precision    recall  f1-score   support\n",
      "\n",
      "          0       1.00      1.00      1.00        97\n",
      "          1       1.00      1.00      1.00        44\n",
      "\n",
      "avg / total       1.00      1.00      1.00       141\n",
      "\n"
     ]
    }
   ],
   "source": [
    "print(classification_report(Y_validation,predictions))"
   ]
  },
  {
   "cell_type": "code",
   "execution_count": 623,
   "metadata": {
    "collapsed": true
   },
   "outputs": [],
   "source": [
    "from sklearn import tree\n",
    "dt=tree.DecisionTreeClassifier()"
   ]
  },
  {
   "cell_type": "code",
   "execution_count": 624,
   "metadata": {},
   "outputs": [
    {
     "data": {
      "text/plain": [
       "DecisionTreeClassifier(class_weight=None, criterion='gini', max_depth=None,\n",
       "            max_features=None, max_leaf_nodes=None,\n",
       "            min_impurity_decrease=0.0, min_impurity_split=None,\n",
       "            min_samples_leaf=1, min_samples_split=2,\n",
       "            min_weight_fraction_leaf=0.0, presort=False, random_state=None,\n",
       "            splitter='best')"
      ]
     },
     "execution_count": 624,
     "metadata": {},
     "output_type": "execute_result"
    }
   ],
   "source": [
    "dt.fit(X_train,Y_train)"
   ]
  },
  {
   "cell_type": "code",
   "execution_count": 625,
   "metadata": {
    "collapsed": true
   },
   "outputs": [],
   "source": [
    "predictions=dt.predict(X_validation)"
   ]
  },
  {
   "cell_type": "code",
   "execution_count": 626,
   "metadata": {},
   "outputs": [
    {
     "name": "stdout",
     "output_type": "stream",
     "text": [
      "0.964539007092\n",
      "[[95  2]\n",
      " [ 3 41]]\n",
      "             precision    recall  f1-score   support\n",
      "\n",
      "          0       0.97      0.98      0.97        97\n",
      "          1       0.95      0.93      0.94        44\n",
      "\n",
      "avg / total       0.96      0.96      0.96       141\n",
      "\n"
     ]
    }
   ],
   "source": [
    "print(accuracy_score(Y_validation,predictions))\n",
    "print(confusion_matrix(Y_validation,predictions))\n",
    "print(classification_report(Y_validation,predictions))"
   ]
  },
  {
   "cell_type": "code",
   "execution_count": 627,
   "metadata": {
    "collapsed": true
   },
   "outputs": [],
   "source": [
    "from sklearn.naive_bayes import GaussianNB\n",
    "gnb=GaussianNB()"
   ]
  },
  {
   "cell_type": "code",
   "execution_count": 628,
   "metadata": {
    "collapsed": true
   },
   "outputs": [],
   "source": [
    "gnb.fit(X_train,Y_train)\n",
    "predictions=gnb.predict(X_validation)"
   ]
  },
  {
   "cell_type": "code",
   "execution_count": 629,
   "metadata": {},
   "outputs": [
    {
     "name": "stdout",
     "output_type": "stream",
     "text": [
      "0.978723404255\n",
      "[[95  2]\n",
      " [ 1 43]]\n",
      "             precision    recall  f1-score   support\n",
      "\n",
      "          0       0.99      0.98      0.98        97\n",
      "          1       0.96      0.98      0.97        44\n",
      "\n",
      "avg / total       0.98      0.98      0.98       141\n",
      "\n"
     ]
    }
   ],
   "source": [
    "print(accuracy_score(Y_validation,predictions))\n",
    "print(confusion_matrix(Y_validation,predictions))\n",
    "print(classification_report(Y_validation,predictions))"
   ]
  },
  {
   "cell_type": "code",
   "execution_count": 630,
   "metadata": {
    "collapsed": true
   },
   "outputs": [],
   "source": [
    "from sklearn import svm\n",
    "vm=svm.SVC()"
   ]
  },
  {
   "cell_type": "code",
   "execution_count": 631,
   "metadata": {
    "collapsed": true
   },
   "outputs": [],
   "source": [
    "vm.fit(X_train,Y_train)\n",
    "predictions=vm.predict(X_validation)"
   ]
  },
  {
   "cell_type": "code",
   "execution_count": 632,
   "metadata": {},
   "outputs": [
    {
     "name": "stdout",
     "output_type": "stream",
     "text": [
      "0.964539007092\n",
      "[[96  1]\n",
      " [ 4 40]]\n",
      "             precision    recall  f1-score   support\n",
      "\n",
      "          0       0.96      0.99      0.97        97\n",
      "          1       0.98      0.91      0.94        44\n",
      "\n",
      "avg / total       0.96      0.96      0.96       141\n",
      "\n"
     ]
    }
   ],
   "source": [
    "print(accuracy_score(Y_validation,predictions))\n",
    "print(confusion_matrix(Y_validation,predictions))\n",
    "print(classification_report(Y_validation,predictions))"
   ]
  },
  {
   "cell_type": "code",
   "execution_count": 633,
   "metadata": {},
   "outputs": [],
   "source": [
    "from keras.models import Sequential\n",
    "from keras.layers import Dense \n",
    "import numpy as np\n",
    "dataset=pd.read_csv('/Users/padma/Desktop/Mahit/science-fair-autism/Autism-Adult-Data-Processed2.csv')"
   ]
  },
  {
   "cell_type": "code",
   "execution_count": 635,
   "metadata": {},
   "outputs": [],
   "source": [
    "X=array[:,0:9]\n",
    "Y=array[:,10]"
   ]
  },
  {
   "cell_type": "code",
   "execution_count": 642,
   "metadata": {
    "collapsed": true
   },
   "outputs": [],
   "source": [
    "nn=Sequential()\n",
    "nn.add(Dense(12,input_dim=9,activation='relu'))\n",
    "nn.add(Dense(8,activation='relu'))\n",
    "nn.add(Dense(1,activation='sigmoid'))"
   ]
  },
  {
   "cell_type": "code",
   "execution_count": 643,
   "metadata": {
    "collapsed": true
   },
   "outputs": [],
   "source": [
    "nn.compile(loss='binary_crossentropy',optimizer='adam',metrics=['accuracy'])"
   ]
  },
  {
   "cell_type": "code",
   "execution_count": 645,
   "metadata": {},
   "outputs": [
    {
     "name": "stdout",
     "output_type": "stream",
     "text": [
      "Epoch 1/150\n",
      "563/563 [==============================] - 0s 297us/step - loss: 0.0354 - acc: 0.9876\n",
      "Epoch 2/150\n",
      "563/563 [==============================] - 0s 255us/step - loss: 0.0337 - acc: 0.9858\n",
      "Epoch 3/150\n",
      "563/563 [==============================] - 0s 259us/step - loss: 0.0361 - acc: 0.9858\n",
      "Epoch 4/150\n",
      "563/563 [==============================] - 0s 252us/step - loss: 0.0340 - acc: 0.9840\n",
      "Epoch 5/150\n",
      "563/563 [==============================] - 0s 263us/step - loss: 0.0412 - acc: 0.9840\n",
      "Epoch 6/150\n",
      "563/563 [==============================] - 0s 285us/step - loss: 0.0343 - acc: 0.9822\n",
      "Epoch 7/150\n",
      "563/563 [==============================] - 0s 278us/step - loss: 0.0353 - acc: 0.9840\n",
      "Epoch 8/150\n",
      "563/563 [==============================] - 0s 248us/step - loss: 0.0361 - acc: 0.9822\n",
      "Epoch 9/150\n",
      "563/563 [==============================] - 0s 263us/step - loss: 0.0391 - acc: 0.9840\n",
      "Epoch 10/150\n",
      "563/563 [==============================] - 0s 274us/step - loss: 0.0369 - acc: 0.9822\n",
      "Epoch 11/150\n",
      "563/563 [==============================] - 0s 272us/step - loss: 0.0351 - acc: 0.9876\n",
      "Epoch 12/150\n",
      "563/563 [==============================] - 0s 251us/step - loss: 0.0347 - acc: 0.9822\n",
      "Epoch 13/150\n",
      "563/563 [==============================] - 0s 250us/step - loss: 0.0365 - acc: 0.9840\n",
      "Epoch 14/150\n",
      "563/563 [==============================] - 0s 253us/step - loss: 0.0353 - acc: 0.9840\n",
      "Epoch 15/150\n",
      "563/563 [==============================] - 0s 256us/step - loss: 0.0351 - acc: 0.9840\n",
      "Epoch 16/150\n",
      "563/563 [==============================] - 0s 266us/step - loss: 0.0346 - acc: 0.9840\n",
      "Epoch 17/150\n",
      "563/563 [==============================] - 0s 251us/step - loss: 0.0385 - acc: 0.9840\n",
      "Epoch 18/150\n",
      "563/563 [==============================] - 0s 259us/step - loss: 0.0346 - acc: 0.9840\n",
      "Epoch 19/150\n",
      "563/563 [==============================] - 0s 275us/step - loss: 0.0345 - acc: 0.9840\n",
      "Epoch 20/150\n",
      "563/563 [==============================] - 0s 263us/step - loss: 0.0337 - acc: 0.9858\n",
      "Epoch 21/150\n",
      "563/563 [==============================] - 0s 291us/step - loss: 0.0347 - acc: 0.9858\n",
      "Epoch 22/150\n",
      "563/563 [==============================] - 0s 275us/step - loss: 0.0342 - acc: 0.9822\n",
      "Epoch 23/150\n",
      "563/563 [==============================] - 0s 307us/step - loss: 0.0336 - acc: 0.9840\n",
      "Epoch 24/150\n",
      "563/563 [==============================] - 0s 292us/step - loss: 0.0331 - acc: 0.9858\n",
      "Epoch 25/150\n",
      "563/563 [==============================] - 0s 271us/step - loss: 0.0358 - acc: 0.9822\n",
      "Epoch 26/150\n",
      "563/563 [==============================] - 0s 266us/step - loss: 0.0335 - acc: 0.9822\n",
      "Epoch 27/150\n",
      "563/563 [==============================] - 0s 270us/step - loss: 0.0374 - acc: 0.9840\n",
      "Epoch 28/150\n",
      "563/563 [==============================] - 0s 255us/step - loss: 0.0351 - acc: 0.9840\n",
      "Epoch 29/150\n",
      "563/563 [==============================] - 0s 263us/step - loss: 0.0341 - acc: 0.9822\n",
      "Epoch 30/150\n",
      "563/563 [==============================] - 0s 259us/step - loss: 0.0335 - acc: 0.9840\n",
      "Epoch 31/150\n",
      "563/563 [==============================] - 0s 252us/step - loss: 0.0347 - acc: 0.9822\n",
      "Epoch 32/150\n",
      "563/563 [==============================] - 0s 254us/step - loss: 0.0334 - acc: 0.9858\n",
      "Epoch 33/150\n",
      "563/563 [==============================] - 0s 257us/step - loss: 0.0339 - acc: 0.9805\n",
      "Epoch 34/150\n",
      "563/563 [==============================] - 0s 268us/step - loss: 0.0364 - acc: 0.9840\n",
      "Epoch 35/150\n",
      "563/563 [==============================] - 0s 262us/step - loss: 0.0328 - acc: 0.9876\n",
      "Epoch 36/150\n",
      "563/563 [==============================] - 0s 262us/step - loss: 0.0332 - acc: 0.9876\n",
      "Epoch 37/150\n",
      "563/563 [==============================] - 0s 274us/step - loss: 0.0355 - acc: 0.9840\n",
      "Epoch 38/150\n",
      "563/563 [==============================] - 0s 256us/step - loss: 0.0367 - acc: 0.9805\n",
      "Epoch 39/150\n",
      "563/563 [==============================] - 0s 254us/step - loss: 0.0345 - acc: 0.9858\n",
      "Epoch 40/150\n",
      "563/563 [==============================] - 0s 279us/step - loss: 0.0351 - acc: 0.9822\n",
      "Epoch 41/150\n",
      "563/563 [==============================] - 0s 263us/step - loss: 0.0327 - acc: 0.9858\n",
      "Epoch 42/150\n",
      "563/563 [==============================] - 0s 279us/step - loss: 0.0373 - acc: 0.9787\n",
      "Epoch 43/150\n",
      "563/563 [==============================] - 0s 246us/step - loss: 0.0358 - acc: 0.9858\n",
      "Epoch 44/150\n",
      "563/563 [==============================] - 0s 252us/step - loss: 0.0356 - acc: 0.9805\n",
      "Epoch 45/150\n",
      "563/563 [==============================] - 0s 265us/step - loss: 0.0329 - acc: 0.9858 0s - loss: 0.0229 - acc: 0.99\n",
      "Epoch 46/150\n",
      "563/563 [==============================] - 0s 277us/step - loss: 0.0326 - acc: 0.9858\n",
      "Epoch 47/150\n",
      "563/563 [==============================] - 0s 284us/step - loss: 0.0336 - acc: 0.9876\n",
      "Epoch 48/150\n",
      "563/563 [==============================] - 0s 271us/step - loss: 0.0331 - acc: 0.9822\n",
      "Epoch 49/150\n",
      "563/563 [==============================] - 0s 361us/step - loss: 0.0325 - acc: 0.9858\n",
      "Epoch 50/150\n",
      "563/563 [==============================] - 0s 291us/step - loss: 0.0344 - acc: 0.9858\n",
      "Epoch 51/150\n",
      "563/563 [==============================] - 0s 257us/step - loss: 0.0326 - acc: 0.9822\n",
      "Epoch 52/150\n",
      "563/563 [==============================] - 0s 297us/step - loss: 0.0341 - acc: 0.9840\n",
      "Epoch 53/150\n",
      "563/563 [==============================] - 0s 289us/step - loss: 0.0331 - acc: 0.9822\n",
      "Epoch 54/150\n",
      "563/563 [==============================] - 0s 272us/step - loss: 0.0331 - acc: 0.9840\n",
      "Epoch 55/150\n",
      "563/563 [==============================] - 0s 296us/step - loss: 0.0325 - acc: 0.9822\n",
      "Epoch 56/150\n",
      "563/563 [==============================] - 0s 262us/step - loss: 0.0347 - acc: 0.9822\n",
      "Epoch 57/150\n",
      "563/563 [==============================] - 0s 287us/step - loss: 0.0341 - acc: 0.9822\n",
      "Epoch 58/150\n",
      "563/563 [==============================] - 0s 264us/step - loss: 0.0367 - acc: 0.9876\n",
      "Epoch 59/150\n",
      "563/563 [==============================] - 0s 261us/step - loss: 0.0329 - acc: 0.9876\n",
      "Epoch 60/150\n",
      "563/563 [==============================] - 0s 277us/step - loss: 0.0354 - acc: 0.9822\n",
      "Epoch 61/150\n",
      "563/563 [==============================] - 0s 298us/step - loss: 0.0328 - acc: 0.9840\n",
      "Epoch 62/150\n",
      "563/563 [==============================] - 0s 276us/step - loss: 0.0327 - acc: 0.9822\n",
      "Epoch 63/150\n",
      "563/563 [==============================] - 0s 281us/step - loss: 0.0322 - acc: 0.9858\n",
      "Epoch 64/150\n",
      "563/563 [==============================] - 0s 261us/step - loss: 0.0318 - acc: 0.9840\n",
      "Epoch 65/150\n",
      "563/563 [==============================] - 0s 269us/step - loss: 0.0329 - acc: 0.9805\n",
      "Epoch 66/150\n",
      "563/563 [==============================] - 0s 292us/step - loss: 0.0323 - acc: 0.9840\n",
      "Epoch 67/150\n",
      "563/563 [==============================] - 0s 291us/step - loss: 0.0340 - acc: 0.9822\n",
      "Epoch 68/150\n",
      "563/563 [==============================] - 0s 285us/step - loss: 0.0330 - acc: 0.9822\n",
      "Epoch 69/150\n",
      "563/563 [==============================] - 0s 248us/step - loss: 0.0343 - acc: 0.9822\n",
      "Epoch 70/150\n",
      "563/563 [==============================] - 0s 306us/step - loss: 0.0351 - acc: 0.9805\n",
      "Epoch 71/150\n",
      "563/563 [==============================] - 0s 289us/step - loss: 0.0374 - acc: 0.9805\n",
      "Epoch 72/150\n",
      "563/563 [==============================] - 0s 306us/step - loss: 0.0299 - acc: 0.9876\n",
      "Epoch 73/150\n",
      "563/563 [==============================] - 0s 290us/step - loss: 0.0399 - acc: 0.9751\n",
      "Epoch 74/150\n",
      "563/563 [==============================] - 0s 294us/step - loss: 0.0346 - acc: 0.9840\n",
      "Epoch 75/150\n",
      "563/563 [==============================] - 0s 277us/step - loss: 0.0374 - acc: 0.9840\n",
      "Epoch 76/150\n",
      "563/563 [==============================] - 0s 308us/step - loss: 0.0326 - acc: 0.9822\n",
      "Epoch 77/150\n",
      "563/563 [==============================] - 0s 277us/step - loss: 0.0336 - acc: 0.9822\n",
      "Epoch 78/150\n",
      "563/563 [==============================] - 0s 271us/step - loss: 0.0321 - acc: 0.9840\n",
      "Epoch 79/150\n",
      "563/563 [==============================] - 0s 285us/step - loss: 0.0345 - acc: 0.9805\n",
      "Epoch 80/150\n",
      "563/563 [==============================] - 0s 296us/step - loss: 0.0344 - acc: 0.9805\n",
      "Epoch 81/150\n",
      "563/563 [==============================] - 0s 270us/step - loss: 0.0321 - acc: 0.9840\n",
      "Epoch 82/150\n",
      "563/563 [==============================] - 0s 267us/step - loss: 0.0333 - acc: 0.9805\n",
      "Epoch 83/150\n",
      "563/563 [==============================] - 0s 270us/step - loss: 0.0319 - acc: 0.9840\n",
      "Epoch 84/150\n",
      "563/563 [==============================] - 0s 289us/step - loss: 0.0336 - acc: 0.9822\n",
      "Epoch 85/150\n",
      "563/563 [==============================] - 0s 262us/step - loss: 0.0343 - acc: 0.9822\n",
      "Epoch 86/150\n",
      "563/563 [==============================] - 0s 266us/step - loss: 0.0328 - acc: 0.9840\n",
      "Epoch 87/150\n",
      "563/563 [==============================] - 0s 261us/step - loss: 0.0327 - acc: 0.9858\n",
      "Epoch 88/150\n",
      "563/563 [==============================] - 0s 261us/step - loss: 0.0328 - acc: 0.9840\n",
      "Epoch 89/150\n",
      "563/563 [==============================] - 0s 281us/step - loss: 0.0317 - acc: 0.9840\n",
      "Epoch 90/150\n",
      "563/563 [==============================] - 0s 285us/step - loss: 0.0314 - acc: 0.9822\n",
      "Epoch 91/150\n",
      "563/563 [==============================] - 0s 250us/step - loss: 0.0322 - acc: 0.9822\n",
      "Epoch 92/150\n",
      "563/563 [==============================] - 0s 255us/step - loss: 0.0319 - acc: 0.9840\n",
      "Epoch 93/150\n",
      "563/563 [==============================] - 0s 268us/step - loss: 0.0331 - acc: 0.9840 0s - loss: 0.0286 - acc: 0.98\n",
      "Epoch 94/150\n",
      "563/563 [==============================] - 0s 290us/step - loss: 0.0338 - acc: 0.9840\n",
      "Epoch 95/150\n",
      "563/563 [==============================] - 0s 268us/step - loss: 0.0348 - acc: 0.9805\n",
      "Epoch 96/150\n",
      "563/563 [==============================] - 0s 265us/step - loss: 0.0332 - acc: 0.9805\n",
      "Epoch 97/150\n",
      "563/563 [==============================] - 0s 271us/step - loss: 0.0326 - acc: 0.9805\n",
      "Epoch 98/150\n",
      "563/563 [==============================] - 0s 277us/step - loss: 0.0318 - acc: 0.9840\n",
      "Epoch 99/150\n",
      "563/563 [==============================] - 0s 276us/step - loss: 0.0340 - acc: 0.9822\n",
      "Epoch 100/150\n",
      "563/563 [==============================] - 0s 252us/step - loss: 0.0342 - acc: 0.9876\n",
      "Epoch 101/150\n",
      "563/563 [==============================] - 0s 259us/step - loss: 0.0299 - acc: 0.9876\n",
      "Epoch 102/150\n",
      "563/563 [==============================] - 0s 268us/step - loss: 0.0313 - acc: 0.9822\n",
      "Epoch 103/150\n",
      "563/563 [==============================] - 0s 270us/step - loss: 0.0317 - acc: 0.9822\n",
      "Epoch 104/150\n",
      "563/563 [==============================] - 0s 275us/step - loss: 0.0357 - acc: 0.9751\n",
      "Epoch 105/150\n",
      "563/563 [==============================] - 0s 262us/step - loss: 0.0317 - acc: 0.9840\n",
      "Epoch 106/150\n",
      "563/563 [==============================] - 0s 259us/step - loss: 0.0322 - acc: 0.9858\n",
      "Epoch 107/150\n",
      "563/563 [==============================] - 0s 262us/step - loss: 0.0331 - acc: 0.9858\n",
      "Epoch 108/150\n",
      "563/563 [==============================] - 0s 294us/step - loss: 0.0326 - acc: 0.9822\n",
      "Epoch 109/150\n",
      "563/563 [==============================] - 0s 315us/step - loss: 0.0310 - acc: 0.9822\n",
      "Epoch 110/150\n",
      "563/563 [==============================] - 0s 261us/step - loss: 0.0320 - acc: 0.9840\n",
      "Epoch 111/150\n",
      "563/563 [==============================] - 0s 260us/step - loss: 0.0329 - acc: 0.9840\n",
      "Epoch 112/150\n",
      "563/563 [==============================] - 0s 266us/step - loss: 0.0326 - acc: 0.9822\n",
      "Epoch 113/150\n",
      "563/563 [==============================] - 0s 273us/step - loss: 0.0326 - acc: 0.9822\n",
      "Epoch 114/150\n",
      "563/563 [==============================] - 0s 289us/step - loss: 0.0331 - acc: 0.9840\n",
      "Epoch 115/150\n",
      "563/563 [==============================] - 0s 270us/step - loss: 0.0316 - acc: 0.9840\n",
      "Epoch 116/150\n",
      "563/563 [==============================] - 0s 264us/step - loss: 0.0311 - acc: 0.9805\n",
      "Epoch 117/150\n",
      "563/563 [==============================] - 0s 290us/step - loss: 0.0314 - acc: 0.9822\n",
      "Epoch 118/150\n",
      "563/563 [==============================] - 0s 280us/step - loss: 0.0305 - acc: 0.9840\n",
      "Epoch 119/150\n",
      "563/563 [==============================] - 0s 268us/step - loss: 0.0334 - acc: 0.9840\n",
      "Epoch 120/150\n",
      "563/563 [==============================] - 0s 277us/step - loss: 0.0362 - acc: 0.9805\n",
      "Epoch 121/150\n",
      "563/563 [==============================] - 0s 262us/step - loss: 0.0326 - acc: 0.9822\n",
      "Epoch 122/150\n",
      "563/563 [==============================] - 0s 263us/step - loss: 0.0330 - acc: 0.9822\n",
      "Epoch 123/150\n",
      "563/563 [==============================] - 0s 299us/step - loss: 0.0337 - acc: 0.9822\n",
      "Epoch 124/150\n",
      "563/563 [==============================] - 0s 273us/step - loss: 0.0318 - acc: 0.9858\n",
      "Epoch 125/150\n",
      "563/563 [==============================] - 0s 282us/step - loss: 0.0315 - acc: 0.9805\n",
      "Epoch 126/150\n",
      "563/563 [==============================] - 0s 258us/step - loss: 0.0307 - acc: 0.9840\n",
      "Epoch 127/150\n",
      "563/563 [==============================] - 0s 256us/step - loss: 0.0317 - acc: 0.9822\n",
      "Epoch 128/150\n",
      "563/563 [==============================] - 0s 268us/step - loss: 0.0334 - acc: 0.9787\n",
      "Epoch 129/150\n",
      "563/563 [==============================] - 0s 283us/step - loss: 0.0354 - acc: 0.9822\n",
      "Epoch 130/150\n",
      "563/563 [==============================] - 0s 297us/step - loss: 0.0317 - acc: 0.9822\n",
      "Epoch 131/150\n",
      "563/563 [==============================] - 0s 268us/step - loss: 0.0348 - acc: 0.9787\n",
      "Epoch 132/150\n",
      "563/563 [==============================] - 0s 258us/step - loss: 0.0301 - acc: 0.9858\n",
      "Epoch 133/150\n",
      "563/563 [==============================] - 0s 255us/step - loss: 0.0349 - acc: 0.9822\n",
      "Epoch 134/150\n",
      "563/563 [==============================] - 0s 260us/step - loss: 0.0339 - acc: 0.9840\n",
      "Epoch 135/150\n",
      "563/563 [==============================] - 0s 265us/step - loss: 0.0329 - acc: 0.9769\n",
      "Epoch 136/150\n",
      "563/563 [==============================] - 0s 270us/step - loss: 0.0304 - acc: 0.9876\n",
      "Epoch 137/150\n",
      "563/563 [==============================] - 0s 265us/step - loss: 0.0317 - acc: 0.9822\n",
      "Epoch 138/150\n",
      "563/563 [==============================] - 0s 257us/step - loss: 0.0358 - acc: 0.9840\n",
      "Epoch 139/150\n",
      "563/563 [==============================] - 0s 258us/step - loss: 0.0337 - acc: 0.9822\n",
      "Epoch 140/150\n",
      "563/563 [==============================] - 0s 272us/step - loss: 0.0303 - acc: 0.9840ETA: 0s - loss: 0.0174 - acc: 1.0000  \n",
      "Epoch 141/150\n",
      "563/563 [==============================] - 0s 257us/step - loss: 0.0329 - acc: 0.9876\n",
      "Epoch 142/150\n",
      "563/563 [==============================] - 0s 261us/step - loss: 0.0330 - acc: 0.9840\n",
      "Epoch 143/150\n",
      "563/563 [==============================] - 0s 257us/step - loss: 0.0326 - acc: 0.9840\n",
      "Epoch 144/150\n",
      "563/563 [==============================] - 0s 250us/step - loss: 0.0312 - acc: 0.9805\n",
      "Epoch 145/150\n",
      "563/563 [==============================] - 0s 267us/step - loss: 0.0317 - acc: 0.9840\n",
      "Epoch 146/150\n",
      "563/563 [==============================] - 0s 267us/step - loss: 0.0312 - acc: 0.9805\n",
      "Epoch 147/150\n",
      "563/563 [==============================] - 0s 244us/step - loss: 0.0325 - acc: 0.9822\n",
      "Epoch 148/150\n",
      "563/563 [==============================] - 0s 246us/step - loss: 0.0324 - acc: 0.9822\n",
      "Epoch 149/150\n",
      "563/563 [==============================] - 0s 249us/step - loss: 0.0340 - acc: 0.9840\n",
      "Epoch 150/150\n",
      "563/563 [==============================] - 0s 264us/step - loss: 0.0307 - acc: 0.9840\n"
     ]
    },
    {
     "data": {
      "text/plain": [
       "<keras.callbacks.History at 0x1a247ac278>"
      ]
     },
     "execution_count": 645,
     "metadata": {},
     "output_type": "execute_result"
    }
   ],
   "source": [
    "nn.fit(X_train, Y_train, epochs=150, batch_size=10)"
   ]
  },
  {
   "cell_type": "code",
   "execution_count": 646,
   "metadata": {},
   "outputs": [
    {
     "name": "stdout",
     "output_type": "stream",
     "text": [
      "141/141 [==============================] - 0s 866us/step\n"
     ]
    }
   ],
   "source": [
    "predictions=nn.evaluate(X_validation,Y_validation)"
   ]
  },
  {
   "cell_type": "code",
   "execution_count": 647,
   "metadata": {},
   "outputs": [
    {
     "name": "stdout",
     "output_type": "stream",
     "text": [
      "\n",
      "acc: 98.58%\n"
     ]
    }
   ],
   "source": [
    "print(\"\\n%s: %.2f%%\" % (nn.metrics_names[1], predictions[1]*100))"
   ]
  },
  {
   "cell_type": "code",
   "execution_count": null,
   "metadata": {
    "collapsed": true
   },
   "outputs": [],
   "source": []
  }
 ],
 "metadata": {
  "kernelspec": {
   "display_name": "Python 3",
   "language": "python",
   "name": "python3"
  },
  "language_info": {
   "codemirror_mode": {
    "name": "ipython",
    "version": 3
   },
   "file_extension": ".py",
   "mimetype": "text/x-python",
   "name": "python",
   "nbconvert_exporter": "python",
   "pygments_lexer": "ipython3",
   "version": "3.6.9"
  }
 },
 "nbformat": 4,
 "nbformat_minor": 2
}
