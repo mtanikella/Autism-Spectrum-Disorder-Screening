{
 "cells": [
  {
   "cell_type": "code",
   "execution_count": 119,
   "metadata": {
    "collapsed": true
   },
   "outputs": [],
   "source": [
    "import pandas as pd\n",
    "# Load libraries\n",
    "import pandas\n",
    "from pandas.plotting import scatter_matrix\n",
    "import matplotlib.pyplot as plt\n",
    "from sklearn import model_selection\n",
    "from sklearn.metrics import classification_report\n",
    "from sklearn.metrics import confusion_matrix\n",
    "from sklearn.metrics import accuracy_score\n",
    "from sklearn.linear_model import LogisticRegression\n",
    "from sklearn.tree import DecisionTreeClassifier\n",
    "from sklearn.neighbors import KNeighborsClassifier\n",
    "from sklearn.discriminant_analysis import LinearDiscriminantAnalysis\n",
    "from sklearn.naive_bayes import GaussianNB\n",
    "from sklearn.svm import SVC\n",
    "X_train=pd.read_csv('/Users/padma/Desktop/Mahit/science-fair-autism/Autism-Adult-Data-Processed2.csv')"
   ]
  },
  {
   "cell_type": "code",
   "execution_count": 120,
   "metadata": {},
   "outputs": [
    {
     "name": "stdout",
     "output_type": "stream",
     "text": [
      "   Q1  Q2  Q3  Q4  Q5  Q6  Q7  Q8  Q9  Q10 Age Gender       Ethnicity  \\\n",
      "0   1   1   1   1   0   0   1   1   0    0  26      f  White-European   \n",
      "1   1   1   0   1   0   0   0   1   0    1  24      m          Latino   \n",
      "2   1   1   0   1   1   0   1   1   1    1  27      m          Latino   \n",
      "3   1   1   0   1   0   0   1   1   0    1  35      f  White-European   \n",
      "4   1   0   0   0   0   0   0   1   0    0  40      f               ?   \n",
      "\n",
      "  Jaundice  PDD  Total Class  \n",
      "0       no   no      6    NO  \n",
      "1       no  yes      5    NO  \n",
      "2      yes  yes      8   YES  \n",
      "3       no  yes      6    NO  \n",
      "4       no   no      2    NO  \n"
     ]
    }
   ],
   "source": [
    "print (X_train.head())"
   ]
  },
  {
   "cell_type": "code",
   "execution_count": 121,
   "metadata": {
    "collapsed": true
   },
   "outputs": [],
   "source": [
    " import matplotlib.pyplot as plt"
   ]
  },
  {
   "cell_type": "code",
   "execution_count": 122,
   "metadata": {},
   "outputs": [
    {
     "data": {
      "text/plain": [
       "array([[<matplotlib.axes._subplots.AxesSubplot object at 0x1a2783fb00>,\n",
       "        <matplotlib.axes._subplots.AxesSubplot object at 0x1a278760f0>,\n",
       "        <matplotlib.axes._subplots.AxesSubplot object at 0x1a278a8e10>],\n",
       "       [<matplotlib.axes._subplots.AxesSubplot object at 0x1a278e2e10>,\n",
       "        <matplotlib.axes._subplots.AxesSubplot object at 0x1a278b4f60>,\n",
       "        <matplotlib.axes._subplots.AxesSubplot object at 0x1a278b49e8>],\n",
       "       [<matplotlib.axes._subplots.AxesSubplot object at 0x1a279a69b0>,\n",
       "        <matplotlib.axes._subplots.AxesSubplot object at 0x1a279dea20>,\n",
       "        <matplotlib.axes._subplots.AxesSubplot object at 0x1a27a18b00>],\n",
       "       [<matplotlib.axes._subplots.AxesSubplot object at 0x1a27a4d0f0>,\n",
       "        <matplotlib.axes._subplots.AxesSubplot object at 0x1a27a83320>,\n",
       "        <matplotlib.axes._subplots.AxesSubplot object at 0x1a27abb400>]], dtype=object)"
      ]
     },
     "execution_count": 122,
     "metadata": {},
     "output_type": "execute_result"
    }
   ],
   "source": [
    "X_train[X_train.dtypes[(X_train.dtypes==\"float64\")|(X_train.dtypes==\"int64\")]\n",
    "                        .index.values].hist(figsize=[11,11])"
   ]
  },
  {
   "cell_type": "code",
   "execution_count": 123,
   "metadata": {
    "collapsed": true
   },
   "outputs": [],
   "source": [
    "# Importing LabelEncoder and initializing it\n",
    "from sklearn.preprocessing import LabelEncoder\n",
    "le=LabelEncoder()\n",
    "# Iterating over all the common columns in train and test\n",
    "for col in X_train.columns.values:\n",
    "    # Encoding only categorical variables\n",
    "    if X_train[col].dtypes=='object':\n",
    "        # Using whole data to form an exhaustive list of levels\n",
    "        data=X_train[col]\n",
    "        le.fit(data.values)\n",
    "        X_train[col]=le.transform(X_train[col])"
   ]
  },
  {
   "cell_type": "code",
   "execution_count": 124,
   "metadata": {},
   "outputs": [
    {
     "name": "stdout",
     "output_type": "stream",
     "text": [
      "   Q1  Q2  Q3  Q4  Q5  Q6  Q7  Q8  Q9  Q10  Age  Gender  Ethnicity  Jaundice  \\\n",
      "0   1   1   1   1   0   0   1   1   0    0    9       0         10         0   \n",
      "1   1   1   0   1   0   0   0   1   0    1    7       1          6         0   \n",
      "2   1   1   0   1   1   0   1   1   1    1   10       1          6         1   \n",
      "3   1   1   0   1   0   0   1   1   0    1   18       0         10         0   \n",
      "4   1   0   0   0   0   0   0   1   0    0   24       0          2         0   \n",
      "\n",
      "   PDD  Total  Class  \n",
      "0    0      6      0  \n",
      "1    1      5      0  \n",
      "2    1      8      1  \n",
      "3    1      6      0  \n",
      "4    0      2      0  \n"
     ]
    }
   ],
   "source": [
    "print (X_train.head())"
   ]
  },
  {
   "cell_type": "code",
   "execution_count": 125,
   "metadata": {},
   "outputs": [
    {
     "name": "stdout",
     "output_type": "stream",
     "text": [
      "     Q1  Q2  Q3  Q4  Q5  Q6  Q7  Q8  Q9  Q10  Age  Gender  Ethnicity  \\\n",
      "0     1   1   1   1   0   0   1   1   0    0    9       0         10   \n",
      "1     1   1   0   1   0   0   0   1   0    1    7       1          6   \n",
      "2     1   1   0   1   1   0   1   1   1    1   10       1          6   \n",
      "3     1   1   0   1   0   0   1   1   0    1   18       0         10   \n",
      "4     1   0   0   0   0   0   0   1   0    0   24       0          2   \n",
      "5     1   1   1   1   1   0   1   1   1    1   19       1          7   \n",
      "6     0   1   0   0   0   0   0   1   0    0    0       0          4   \n",
      "7     1   1   1   1   0   0   0   0   1    0   45       1         10   \n",
      "8     1   1   0   0   1   0   0   1   1    1   12       1         10   \n",
      "9     1   1   1   1   0   1   1   1   1    0    0       1          3   \n",
      "10    1   1   1   1   1   1   1   1   1    1   16       1         10   \n",
      "11    0   1   0   1   1   1   1   0   0    1    1       0          0   \n",
      "12    0   1   1   1   1   1   0   0   1    0    0       0          2   \n",
      "13    1   0   0   0   0   0   1   1   0    1    0       1          2   \n",
      "14    1   0   0   0   0   0   1   1   0    1    0       0          2   \n",
      "15    1   1   0   1   1   0   0   1   0    1    1       1          0   \n",
      "16    1   0   0   0   0   0   1   1   1    1   14       1          0   \n",
      "17    0   0   0   0   0   0   0   1   0    1   13       1         10   \n",
      "18    0   0   1   0   1   1   0   0   0    0   18       0          0   \n",
      "19    0   0   0   0   0   0   1   1   0    1   17       1          2   \n",
      "20    0   1   1   1   0   0   0   0   0    0   21       1          2   \n",
      "21    0   0   0   0   0   0   0   0   0    0   10       0          4   \n",
      "22    0   0   0   1   0   0   1   1   1    1   10       1          0   \n",
      "23    0   0   0   0   0   0   0   1   0    1   26       1          0   \n",
      "24    1   1   1   1   0   0   0   1   0    0   27       1          2   \n",
      "25    0   1   1   0   0   0   0   1   0    0    7       0          2   \n",
      "26    0   0   0   0   0   0   0   1   0    0   24       1          8   \n",
      "27    0   0   0   0   0   0   0   1   0    0   24       1          0   \n",
      "28    0   0   0   0   0   0   0   1   0    0   32       1          4   \n",
      "29    0   1   1   0   0   0   0   0   1    1   14       1          0   \n",
      "..   ..  ..  ..  ..  ..  ..  ..  ..  ..  ...  ...     ...        ...   \n",
      "674   1   1   0   0   1   1   0   1   0    1   10       0         10   \n",
      "675   1   1   1   1   0   0   0   0   1    0    7       0         10   \n",
      "676   1   1   0   0   0   0   1   0   0    1   18       1         10   \n",
      "677   1   0   0   0   0   0   1   0   0    1    1       1          4   \n",
      "678   1   1   1   1   1   0   0   1   1    1   27       0          4   \n",
      "679   1   1   1   1   1   1   1   1   1    1   28       1         10   \n",
      "680   1   1   1   1   1   1   1   1   1    1   24       1         10   \n",
      "681   1   1   0   1   1   1   1   1   1    1   33       0          5   \n",
      "682   1   1   0   0   0   0   0   1   0    0    7       1          5   \n",
      "683   1   1   0   0   0   0   0   1   1    0   13       0         10   \n",
      "684   1   0   1   0   0   0   0   1   0    1   37       1          5   \n",
      "685   1   0   1   1   1   0   0   1   1    1   21       1         10   \n",
      "686   1   0   0   0   1   0   1   1   0    1   11       1         10   \n",
      "687   1   1   1   0   1   1   1   1   1    1   11       1         10   \n",
      "688   1   0   1   1   1   1   1   0   1    1    9       1          4   \n",
      "689   1   0   0   0   1   1   1   1   1    1   23       0         10   \n",
      "690   0   0   0   0   1   0   0   0   0    0   14       0          3   \n",
      "691   1   0   0   1   0   0   1   1   0    0    7       1          4   \n",
      "692   1   1   1   0   1   1   1   1   0    1   11       1         10   \n",
      "693   1   0   0   1   0   0   0   1   0    1   14       0         10   \n",
      "694   1   1   1   1   1   0   0   1   0    1   10       1         10   \n",
      "695   1   0   1   1   0   0   1   1   0    0   11       1          6   \n",
      "696   1   1   1   1   1   1   0   1   1    1   14       1          9   \n",
      "697   1   1   1   1   1   0   0   0   0    1   30       0          3   \n",
      "698   1   1   1   1   1   1   1   1   1    1   10       0          8   \n",
      "699   0   1   0   1   1   0   1   1   1    1    8       0         10   \n",
      "700   1   0   0   0   0   0   0   1   0    1   17       1          5   \n",
      "701   1   0   1   1   1   0   1   1   0    1    7       0          2   \n",
      "702   1   0   0   1   1   0   1   0   1    1   18       1          1   \n",
      "703   1   0   1   1   1   0   1   1   1    1    9       0         10   \n",
      "\n",
      "     Jaundice  PDD  Total  Class  \n",
      "0           0    0      6      0  \n",
      "1           0    1      5      0  \n",
      "2           1    1      8      1  \n",
      "3           0    1      6      0  \n",
      "4           0    0      2      0  \n",
      "5           1    0      9      1  \n",
      "6           0    0      2      0  \n",
      "7           0    0      5      0  \n",
      "8           0    0      6      0  \n",
      "9           1    1      8      1  \n",
      "10          0    0     10      1  \n",
      "11          0    0      6      0  \n",
      "12          0    0      6      0  \n",
      "13          0    0      4      0  \n",
      "14          0    0      4      0  \n",
      "15          0    1      6      0  \n",
      "16          0    0      5      0  \n",
      "17          0    0      2      0  \n",
      "18          0    1      3      0  \n",
      "19          1    0      3      0  \n",
      "20          0    0      3      0  \n",
      "21          0    0      0      0  \n",
      "22          0    0      5      0  \n",
      "23          1    0      2      0  \n",
      "24          0    0      5      0  \n",
      "25          1    0      3      0  \n",
      "26          1    1      1      0  \n",
      "27          1    1      1      0  \n",
      "28          0    0      1      0  \n",
      "29          0    0      4      0  \n",
      "..        ...  ...    ...    ...  \n",
      "674         1    0      6      0  \n",
      "675         1    0      5      0  \n",
      "676         1    0      4      0  \n",
      "677         0    0      3      0  \n",
      "678         0    0      8      1  \n",
      "679         0    1     10      1  \n",
      "680         1    1     10      1  \n",
      "681         0    0      9      1  \n",
      "682         0    0      3      0  \n",
      "683         1    1      4      0  \n",
      "684         0    0      4      0  \n",
      "685         0    1      7      1  \n",
      "686         0    0      5      0  \n",
      "687         0    0      9      1  \n",
      "688         0    0      8      1  \n",
      "689         0    0      7      1  \n",
      "690         1    0      1      0  \n",
      "691         0    0      4      0  \n",
      "692         0    0      8      1  \n",
      "693         0    0      4      0  \n",
      "694         1    0      7      1  \n",
      "695         0    0      5      0  \n",
      "696         0    1      9      1  \n",
      "697         0    0      6      0  \n",
      "698         0    0     10      1  \n",
      "699         0    0      7      1  \n",
      "700         0    0      3      0  \n",
      "701         0    0      7      1  \n",
      "702         0    0      6      0  \n",
      "703         0    0      8      1  \n",
      "\n",
      "[704 rows x 17 columns]\n"
     ]
    }
   ],
   "source": [
    "print (X_train)"
   ]
  },
  {
   "cell_type": "code",
   "execution_count": 126,
   "metadata": {},
   "outputs": [
    {
     "name": "stdout",
     "output_type": "stream",
     "text": [
      "     Q1  Q2  Q3  Q4  Q5  Q6  Q7  Q8  Q9  Q10  Age  Gender  Ethnicity  \\\n",
      "699   0   1   0   1   1   0   1   1   1    1    8       0         10   \n",
      "700   1   0   0   0   0   0   0   1   0    1   17       1          5   \n",
      "701   1   0   1   1   1   0   1   1   0    1    7       0          2   \n",
      "702   1   0   0   1   1   0   1   0   1    1   18       1          1   \n",
      "703   1   0   1   1   1   0   1   1   1    1    9       0         10   \n",
      "\n",
      "     Jaundice  PDD  Total  Class  \n",
      "699         0    0      7      1  \n",
      "700         0    0      3      0  \n",
      "701         0    0      7      1  \n",
      "702         0    0      6      0  \n",
      "703         0    0      8      1  \n"
     ]
    }
   ],
   "source": [
    "print (X_train.tail())"
   ]
  },
  {
   "cell_type": "code",
   "execution_count": 127,
   "metadata": {},
   "outputs": [
    {
     "name": "stdout",
     "output_type": "stream",
     "text": [
      "(704, 17)\n"
     ]
    }
   ],
   "source": [
    "print (X_train.shape)"
   ]
  },
  {
   "cell_type": "code",
   "execution_count": 128,
   "metadata": {},
   "outputs": [
    {
     "name": "stdout",
     "output_type": "stream",
     "text": [
      "<bound method NDFrame.describe of      Q1  Q2  Q3  Q4  Q5  Q6  Q7  Q8  Q9  Q10  Age  Gender  Ethnicity  \\\n",
      "0     1   1   1   1   0   0   1   1   0    0    9       0         10   \n",
      "1     1   1   0   1   0   0   0   1   0    1    7       1          6   \n",
      "2     1   1   0   1   1   0   1   1   1    1   10       1          6   \n",
      "3     1   1   0   1   0   0   1   1   0    1   18       0         10   \n",
      "4     1   0   0   0   0   0   0   1   0    0   24       0          2   \n",
      "5     1   1   1   1   1   0   1   1   1    1   19       1          7   \n",
      "6     0   1   0   0   0   0   0   1   0    0    0       0          4   \n",
      "7     1   1   1   1   0   0   0   0   1    0   45       1         10   \n",
      "8     1   1   0   0   1   0   0   1   1    1   12       1         10   \n",
      "9     1   1   1   1   0   1   1   1   1    0    0       1          3   \n",
      "10    1   1   1   1   1   1   1   1   1    1   16       1         10   \n",
      "11    0   1   0   1   1   1   1   0   0    1    1       0          0   \n",
      "12    0   1   1   1   1   1   0   0   1    0    0       0          2   \n",
      "13    1   0   0   0   0   0   1   1   0    1    0       1          2   \n",
      "14    1   0   0   0   0   0   1   1   0    1    0       0          2   \n",
      "15    1   1   0   1   1   0   0   1   0    1    1       1          0   \n",
      "16    1   0   0   0   0   0   1   1   1    1   14       1          0   \n",
      "17    0   0   0   0   0   0   0   1   0    1   13       1         10   \n",
      "18    0   0   1   0   1   1   0   0   0    0   18       0          0   \n",
      "19    0   0   0   0   0   0   1   1   0    1   17       1          2   \n",
      "20    0   1   1   1   0   0   0   0   0    0   21       1          2   \n",
      "21    0   0   0   0   0   0   0   0   0    0   10       0          4   \n",
      "22    0   0   0   1   0   0   1   1   1    1   10       1          0   \n",
      "23    0   0   0   0   0   0   0   1   0    1   26       1          0   \n",
      "24    1   1   1   1   0   0   0   1   0    0   27       1          2   \n",
      "25    0   1   1   0   0   0   0   1   0    0    7       0          2   \n",
      "26    0   0   0   0   0   0   0   1   0    0   24       1          8   \n",
      "27    0   0   0   0   0   0   0   1   0    0   24       1          0   \n",
      "28    0   0   0   0   0   0   0   1   0    0   32       1          4   \n",
      "29    0   1   1   0   0   0   0   0   1    1   14       1          0   \n",
      "..   ..  ..  ..  ..  ..  ..  ..  ..  ..  ...  ...     ...        ...   \n",
      "674   1   1   0   0   1   1   0   1   0    1   10       0         10   \n",
      "675   1   1   1   1   0   0   0   0   1    0    7       0         10   \n",
      "676   1   1   0   0   0   0   1   0   0    1   18       1         10   \n",
      "677   1   0   0   0   0   0   1   0   0    1    1       1          4   \n",
      "678   1   1   1   1   1   0   0   1   1    1   27       0          4   \n",
      "679   1   1   1   1   1   1   1   1   1    1   28       1         10   \n",
      "680   1   1   1   1   1   1   1   1   1    1   24       1         10   \n",
      "681   1   1   0   1   1   1   1   1   1    1   33       0          5   \n",
      "682   1   1   0   0   0   0   0   1   0    0    7       1          5   \n",
      "683   1   1   0   0   0   0   0   1   1    0   13       0         10   \n",
      "684   1   0   1   0   0   0   0   1   0    1   37       1          5   \n",
      "685   1   0   1   1   1   0   0   1   1    1   21       1         10   \n",
      "686   1   0   0   0   1   0   1   1   0    1   11       1         10   \n",
      "687   1   1   1   0   1   1   1   1   1    1   11       1         10   \n",
      "688   1   0   1   1   1   1   1   0   1    1    9       1          4   \n",
      "689   1   0   0   0   1   1   1   1   1    1   23       0         10   \n",
      "690   0   0   0   0   1   0   0   0   0    0   14       0          3   \n",
      "691   1   0   0   1   0   0   1   1   0    0    7       1          4   \n",
      "692   1   1   1   0   1   1   1   1   0    1   11       1         10   \n",
      "693   1   0   0   1   0   0   0   1   0    1   14       0         10   \n",
      "694   1   1   1   1   1   0   0   1   0    1   10       1         10   \n",
      "695   1   0   1   1   0   0   1   1   0    0   11       1          6   \n",
      "696   1   1   1   1   1   1   0   1   1    1   14       1          9   \n",
      "697   1   1   1   1   1   0   0   0   0    1   30       0          3   \n",
      "698   1   1   1   1   1   1   1   1   1    1   10       0          8   \n",
      "699   0   1   0   1   1   0   1   1   1    1    8       0         10   \n",
      "700   1   0   0   0   0   0   0   1   0    1   17       1          5   \n",
      "701   1   0   1   1   1   0   1   1   0    1    7       0          2   \n",
      "702   1   0   0   1   1   0   1   0   1    1   18       1          1   \n",
      "703   1   0   1   1   1   0   1   1   1    1    9       0         10   \n",
      "\n",
      "     Jaundice  PDD  Total  Class  \n",
      "0           0    0      6      0  \n",
      "1           0    1      5      0  \n",
      "2           1    1      8      1  \n",
      "3           0    1      6      0  \n",
      "4           0    0      2      0  \n",
      "5           1    0      9      1  \n",
      "6           0    0      2      0  \n",
      "7           0    0      5      0  \n",
      "8           0    0      6      0  \n",
      "9           1    1      8      1  \n",
      "10          0    0     10      1  \n",
      "11          0    0      6      0  \n",
      "12          0    0      6      0  \n",
      "13          0    0      4      0  \n",
      "14          0    0      4      0  \n",
      "15          0    1      6      0  \n",
      "16          0    0      5      0  \n",
      "17          0    0      2      0  \n",
      "18          0    1      3      0  \n",
      "19          1    0      3      0  \n",
      "20          0    0      3      0  \n",
      "21          0    0      0      0  \n",
      "22          0    0      5      0  \n",
      "23          1    0      2      0  \n",
      "24          0    0      5      0  \n",
      "25          1    0      3      0  \n",
      "26          1    1      1      0  \n",
      "27          1    1      1      0  \n",
      "28          0    0      1      0  \n",
      "29          0    0      4      0  \n",
      "..        ...  ...    ...    ...  \n",
      "674         1    0      6      0  \n",
      "675         1    0      5      0  \n",
      "676         1    0      4      0  \n",
      "677         0    0      3      0  \n",
      "678         0    0      8      1  \n",
      "679         0    1     10      1  \n",
      "680         1    1     10      1  \n",
      "681         0    0      9      1  \n",
      "682         0    0      3      0  \n",
      "683         1    1      4      0  \n",
      "684         0    0      4      0  \n",
      "685         0    1      7      1  \n",
      "686         0    0      5      0  \n",
      "687         0    0      9      1  \n",
      "688         0    0      8      1  \n",
      "689         0    0      7      1  \n",
      "690         1    0      1      0  \n",
      "691         0    0      4      0  \n",
      "692         0    0      8      1  \n",
      "693         0    0      4      0  \n",
      "694         1    0      7      1  \n",
      "695         0    0      5      0  \n",
      "696         0    1      9      1  \n",
      "697         0    0      6      0  \n",
      "698         0    0     10      1  \n",
      "699         0    0      7      1  \n",
      "700         0    0      3      0  \n",
      "701         0    0      7      1  \n",
      "702         0    0      6      0  \n",
      "703         0    0      8      1  \n",
      "\n",
      "[704 rows x 17 columns]>\n"
     ]
    }
   ],
   "source": [
    "print (X_train.describe)"
   ]
  },
  {
   "cell_type": "code",
   "execution_count": 129,
   "metadata": {},
   "outputs": [
    {
     "name": "stdout",
     "output_type": "stream",
     "text": [
      "Class\n",
      "0    515\n",
      "1    189\n",
      "dtype: int64\n"
     ]
    }
   ],
   "source": [
    "# class distribution\n",
    "print(X_train.groupby('Class').size())"
   ]
  },
  {
   "cell_type": "code",
   "execution_count": 130,
   "metadata": {},
   "outputs": [
    {
     "data": {
      "image/png": "[encoded data removed]",
      "text/plain": [
       "<matplotlib.figure.Figure at 0x1a2783f550>"
      ]
     },
     "metadata": {},
     "output_type": "display_data"
    },
    {
     "data": {
      "image/png": "[encoded data removed]",
      "text/plain": [
       "<matplotlib.figure.Figure at 0x1a27c1a780>"
      ]
     },
     "metadata": {},
     "output_type": "display_data"
    }
   ],
   "source": [
    "# box and whisker plots\n",
    "X_train.plot(kind='box', subplots=True, layout=(5,4), sharex=False, sharey=False)\n",
    "plt.show()"
   ]
  },
  {
   "cell_type": "code",
   "execution_count": 131,
   "metadata": {},
   "outputs": [
    {
     "data": {
      "image/png": "[encoded data removed]",
      "text/plain": [
       "<matplotlib.figure.Figure at 0x1a27c1a3c8>"
      ]
     },
     "metadata": {},
     "output_type": "display_data"
    }
   ],
   "source": [
    "# histograms\n",
    "X_train.hist()\n",
    "plt.show()"
   ]
  },
  {
   "cell_type": "code",
   "execution_count": 132,
   "metadata": {},
   "outputs": [
    {
     "data": {
      "image/png": "[encoded data removed]",
      "text/plain": [
       "<matplotlib.figure.Figure at 0x1a13d33da0>"
      ]
     },
     "metadata": {},
     "output_type": "display_data"
    }
   ],
   "source": [
    "# scatter plot matrix\n",
    "scatter_matrix(X_train)\n",
    "plt.show()"
   ]
  },
  {
   "cell_type": "code",
   "execution_count": 133,
   "metadata": {},
   "outputs": [
    {
     "name": "stdout",
     "output_type": "stream",
     "text": [
      "(704, 17)\n"
     ]
    }
   ],
   "source": [
    "# Split-out validation dataset\n",
    "array = X_train.values\n",
    "print (array.shape)"
   ]
  },
  {
   "cell_type": "code",
   "execution_count": 134,
   "metadata": {},
   "outputs": [
    {
     "name": "stdout",
     "output_type": "stream",
     "text": [
      "(704,)\n",
      "[0 0 1 0 0 1 0 0 0 1 1 0 0 0 0 0 0 0 0 0 0 0 0 0 0 0 0 0 0 0 0 1 0 1 1 0 0\n",
      " 0 1 1 1 0 0 0 1 1 0 0 0 0 0 1 0 1 1 1 1 1 0 0 1 1 0 0 1 0 0 0 0 0 0 0 0 0\n",
      " 0 1 0 1 0 0 0 0 1 0 0 0 1 0 0 1 0 0 0 1 1 0 0 0 0 0 0 0 0 0 0 0 0 1 0 0 1\n",
      " 0 0 0 1 1 1 0 1 1 1 1 0 1 1 1 0 0 0 0 0 0 0 0 0 0 0 0 0 0 0 0 0 0 0 1 1 1\n",
      " 1 1 0 1 0 0 0 0 0 0 0 0 0 0 0 0 0 0 0 0 0 1 0 0 0 0 0 0 1 0 0 0 0 0 0 0 0\n",
      " 1 0 0 1 0 1 0 0 0 0 1 1 1 1 0 1 0 1 1 0 1 1 1 0 1 1 0 0 0 0 1 0 0 1 0 0 0\n",
      " 0 1 1 0 1 0 0 1 0 0 0 0 0 0 0 0 0 0 0 0 0 0 0 0 0 0 0 1 0 0 0 0 0 0 0 0 0\n",
      " 0 0 0 0 0 0 1 0 0 0 0 1 1 1 0 0 0 0 0 1 0 0 1 1 1 0 0 0 0 0 1 1 1 0 0 0 1\n",
      " 1 1 0 1 0 1 0 0 0 0 1 1 1 1 0 0 1 1 0 0 0 0 0 0 0 0 1 0 0 0 0 0 0 0 0 1 1\n",
      " 0 0 0 0 0 0 0 0 0 0 0 0 0 0 0 1 0 1 0 0 0 0 0 0 0 0 0 0 0 0 0 0 0 0 0 0 0\n",
      " 0 0 0 0 0 0 0 0 0 0 0 0 1 0 0 0 0 0 0 0 0 0 0 0 0 0 0 0 0 0 0 0 0 0 0 0 0\n",
      " 1 0 0 0 0 0 0 1 0 0 0 0 0 0 0 0 0 0 0 1 0 0 0 1 1 0 1 0 0 0 0 0 0 0 0 0 1\n",
      " 1 0 1 0 1 0 0 0 1 0 0 0 0 0 1 0 0 0 0 0 1 0 1 0 1 0 0 1 0 0 0 0 0 0 0 0 0\n",
      " 0 0 0 0 0 1 1 0 0 1 0 0 1 0 0 0 1 1 0 0 1 0 0 1 0 0 0 1 0 1 1 0 0 1 1 0 1\n",
      " 0 0 1 1 1 0 1 0 0 0 1 0 0 0 0 1 0 0 0 0 0 0 1 0 1 1 1 1 0 0 0 1 0 0 0 1 1\n",
      " 0 0 0 1 0 1 1 0 0 0 0 0 0 1 0 0 0 0 1 0 0 1 1 1 0 0 0 0 1 1 0 1 1 1 0 0 0\n",
      " 1 0 0 0 0 0 0 0 0 0 0 0 0 0 0 0 0 0 0 0 0 0 0 0 0 0 0 0 0 1 0 1 0 0 0 0 0\n",
      " 0 0 0 0 0 1 0 0 1 0 1 0 1 0 0 0 1 0 0 0 0 0 0 0 1 1 0 0 0 0 1 1 1 0 0 0 1\n",
      " 0 0 0 1 1 1 1 1 0 0 0 0 1 1 1 1 0 0 0 1 0 1 1 1 0 0 1 0 1 0 1 0 1 1 0 1 0\n",
      " 1]\n"
     ]
    }
   ],
   "source": [
    "X = array[:,0:15]\n",
    "Y = array[:,16]\n",
    "validation_size = 0.20\n",
    "seed = 7\n",
    "print (Y.shape)\n",
    "print (Y)"
   ]
  },
  {
   "cell_type": "code",
   "execution_count": 135,
   "metadata": {
    "collapsed": true
   },
   "outputs": [],
   "source": [
    "X_train, X_validation, Y_train, Y_validation = model_selection.train_test_split(X, Y, test_size=validation_size, random_state=seed)"
   ]
  },
  {
   "cell_type": "code",
   "execution_count": 136,
   "metadata": {},
   "outputs": [
    {
     "name": "stdout",
     "output_type": "stream",
     "text": [
      "(563, 15)\n"
     ]
    }
   ],
   "source": [
    "print (X_train.shape)"
   ]
  },
  {
   "cell_type": "code",
   "execution_count": 137,
   "metadata": {},
   "outputs": [
    {
     "name": "stdout",
     "output_type": "stream",
     "text": [
      "(563,)\n"
     ]
    }
   ],
   "source": [
    "print (Y_train.shape)"
   ]
  },
  {
   "cell_type": "code",
   "execution_count": 138,
   "metadata": {
    "collapsed": true
   },
   "outputs": [],
   "source": [
    "# Test options and evaluation metric\n",
    "seed = 7\n",
    "scoring = 'accuracy'"
   ]
  },
  {
   "cell_type": "code",
   "execution_count": 139,
   "metadata": {},
   "outputs": [
    {
     "name": "stdout",
     "output_type": "stream",
     "text": [
      "[[-0.28027022 -1.4096501  -0.40416516 ..., -1.50563055 -1.45161533\n",
      "   1.63249551]\n",
      " [-0.52234015 -0.39939119 -0.29950654 ...,  0.44368011 -1.7925724\n",
      "  -1.60041924]\n",
      " [-0.22903072 -0.32042182  1.17281644 ..., -0.83161005 -0.55211051\n",
      "  -0.53063386]\n",
      " ..., \n",
      " [-0.57002666  0.6620213   1.18005648 ...,  0.22407259 -1.01349795\n",
      "   1.00879215]\n",
      " [ 0.49013146  1.29562705  1.15295921 ..., -0.64673683  0.53757935\n",
      "  -1.15946692]\n",
      " [-0.27981671 -1.42331433  0.88851067 ...,  0.52553494 -0.11785392\n",
      "   0.71818835]]\n",
      "1.0\n",
      "score\n",
      "1.0\n",
      "score train\n",
      "1.0\n"
     ]
    }
   ],
   "source": [
    "from sklearn.decomposition import PCA,TruncatedSVD\n",
    "from sklearn.linear_model import LogisticRegression\n",
    "\n",
    "pca = PCA(n_components=10, whiten='True')\n",
    "x_pca = pca.fit(X).transform(X)\n",
    "print(x_pca)\n",
    "pca.explained_variance_\n",
    "X_train, X_validation, Y_train, Y_validation = model_selection.train_test_split(x_pca, Y, test_size=validation_size, random_state=seed)\n",
    "\n",
    "lgr=LogisticRegression()\n",
    "models = []\n",
    "results=[]\n",
    "models.append(('LR', LogisticRegression()))\n",
    "kfold = model_selection.KFold(n_splits=10, random_state=seed)\n",
    "cv_results = model_selection.cross_val_score(lgr, X_train, Y_train, cv=kfold, scoring='accuracy')\n",
    "results.append(cv_results)\n",
    "print(cv_results.mean())\n",
    "\n",
    "# Make predictions on validation dataset\n",
    "lgr.fit(X_train, Y_train)\n",
    "#predictions = lgr.predict(X_validation)\n",
    "#print(accuracy_score(Y_validation, predictions))\n",
    "#print(confusion_matrix(Y_validation, predictions))\n",
    "#print(classification_report(Y_validation, predictions))\n",
    "\n",
    "print(\"score\")\n",
    "score=lgr.score(X_validation,Y_validation)\n",
    "print(score)\n",
    "print(\"score train\")\n",
    "score=lgr.score(X_train,Y_train)\n",
    "print(score)\n",
    "\n",
    "\n"
   ]
  },
  {
   "cell_type": "code",
   "execution_count": 140,
   "metadata": {},
   "outputs": [
    {
     "name": "stdout",
     "output_type": "stream",
     "text": [
      "0.900709219858\n",
      "score train\n",
      "0.960923623446\n"
     ]
    }
   ],
   "source": [
    "from sklearn.svm import SVC\n",
    "\n",
    "svd = TruncatedSVD(n_components = 10)\n",
    "x = svd.fit(X).transform(X)\n",
    "\n",
    "vm=SVC()\n",
    "\n",
    "x_train, x_test, y_train, y_test = model_selection.train_test_split(X, Y ,test_size=0.2, random_state=4)\n",
    "vm.fit(x_train,y_train)\n",
    "\n",
    "score=vm.score(x_test,y_test)\n",
    "print(score)\n",
    "print(\"score train\")\n",
    "score=vm.score(x_train,y_train)\n",
    "print(score)\n"
   ]
  },
  {
   "cell_type": "code",
   "execution_count": 141,
   "metadata": {},
   "outputs": [
    {
     "name": "stdout",
     "output_type": "stream",
     "text": [
      "LR: 1.000000 (0.000000)\n",
      "LDA: 0.964348 (0.029881)\n",
      "KNN: 0.936028 (0.026731)\n",
      "CART: 0.953697 (0.029062)\n",
      "NB: 0.948434 (0.032380)\n",
      "SVM: 0.969768 (0.016032)\n"
     ]
    }
   ],
   "source": [
    "# Spot Check Algorithms\n",
    "models = []\n",
    "models.append(('LR', LogisticRegression()))\n",
    "models.append(('LDA', LinearDiscriminantAnalysis()))\n",
    "models.append(('KNN', KNeighborsClassifier()))\n",
    "models.append(('CART', DecisionTreeClassifier()))\n",
    "models.append(('NB', GaussianNB()))\n",
    "models.append(('SVM', SVC()))\n",
    "# evaluate each model in turn\n",
    "results = []\n",
    "names = []\n",
    "for name, model in models:\n",
    "\tkfold = model_selection.KFold(n_splits=10, random_state=seed)\n",
    "\tcv_results = model_selection.cross_val_score(model, X_train, Y_train, cv=kfold, scoring=scoring)\n",
    "\tresults.append(cv_results)\n",
    "\tnames.append(name)\n",
    "\tmsg = \"%s: %f (%f)\" % (name, cv_results.mean(), cv_results.std())\n",
    "\tprint(msg)"
   ]
  },
  {
   "cell_type": "code",
   "execution_count": null,
   "metadata": {
    "collapsed": true
   },
   "outputs": [],
   "source": []
  },
  {
   "cell_type": "code",
   "execution_count": 142,
   "metadata": {},
   "outputs": [
    {
     "data": {
      "image/png": "[encoded data removed]",
      "text/plain": [
       "<matplotlib.figure.Figure at 0x1a1b3eab00>"
      ]
     },
     "metadata": {},
     "output_type": "display_data"
    }
   ],
   "source": [
    "# Compare Algorithms\n",
    "fig = plt.figure()\n",
    "fig.suptitle('Algorithm Comparison')\n",
    "ax = fig.add_subplot(111)\n",
    "plt.boxplot(results)\n",
    "ax.set_xticklabels(names)\n",
    "plt.show()"
   ]
  },
  {
   "cell_type": "code",
   "execution_count": 143,
   "metadata": {},
   "outputs": [
    {
     "name": "stdout",
     "output_type": "stream",
     "text": [
      "0.900709219858\n",
      "[[92  5]\n",
      " [ 9 35]]\n",
      "             precision    recall  f1-score   support\n",
      "\n",
      "          0       0.91      0.95      0.93        97\n",
      "          1       0.88      0.80      0.83        44\n",
      "\n",
      "avg / total       0.90      0.90      0.90       141\n",
      "\n"
     ]
    }
   ],
   "source": [
    "# Make predictions on validation dataset\n",
    "knn = KNeighborsClassifier()\n",
    "knn.fit(X_train, Y_train)\n",
    "predictions = knn.predict(X_validation)\n",
    "print(accuracy_score(Y_validation, predictions))\n",
    "print(confusion_matrix(Y_validation, predictions))\n",
    "print(classification_report(Y_validation, predictions))"
   ]
  },
  {
   "cell_type": "code",
   "execution_count": 144,
   "metadata": {},
   "outputs": [
    {
     "ename": "UnicodeEncodeError",
     "evalue": "'latin-1' codec can't encode character '\\ufeff' in position 0: ordinal not in range(256)",
     "output_type": "error",
     "traceback": [
      "\u001b[0;31m---------------------------------------------------------------------------\u001b[0m",
      "\u001b[0;31mUnicodeEncodeError\u001b[0m                        Traceback (most recent call last)",
      "\u001b[0;32m<ipython-input-144-1b98a13df9c6>\u001b[0m in \u001b[0;36m<module>\u001b[0;34m()\u001b[0m\n\u001b[1;32m     22\u001b[0m \u001b[0mnumpy\u001b[0m\u001b[0;34m.\u001b[0m\u001b[0mrandom\u001b[0m\u001b[0;34m.\u001b[0m\u001b[0mseed\u001b[0m\u001b[0;34m(\u001b[0m\u001b[0mseed\u001b[0m\u001b[0;34m)\u001b[0m\u001b[0;34m\u001b[0m\u001b[0m\n\u001b[1;32m     23\u001b[0m \u001b[0;31m# load pima indians dataset\u001b[0m\u001b[0;34m\u001b[0m\u001b[0;34m\u001b[0m\u001b[0m\n\u001b[0;32m---> 24\u001b[0;31m \u001b[0mdataset\u001b[0m \u001b[0;34m=\u001b[0m \u001b[0mnumpy\u001b[0m\u001b[0;34m.\u001b[0m\u001b[0mloadtxt\u001b[0m\u001b[0;34m(\u001b[0m\u001b[0;34m\"/Users/padma/Desktop/Mahit/science-fair-autism/pima-indian-diabetes.csv\"\u001b[0m\u001b[0;34m,\u001b[0m \u001b[0mdelimiter\u001b[0m\u001b[0;34m=\u001b[0m\u001b[0;34m\",\"\u001b[0m\u001b[0;34m)\u001b[0m\u001b[0;34m\u001b[0m\u001b[0m\n\u001b[0m\u001b[1;32m     25\u001b[0m \u001b[0;31m# split into input (X) and output (Y) variables\u001b[0m\u001b[0;34m\u001b[0m\u001b[0;34m\u001b[0m\u001b[0m\n\u001b[1;32m     26\u001b[0m \u001b[0mX\u001b[0m \u001b[0;34m=\u001b[0m \u001b[0mdataset\u001b[0m\u001b[0;34m[\u001b[0m\u001b[0;34m:\u001b[0m\u001b[0;34m,\u001b[0m\u001b[0;36m0\u001b[0m\u001b[0;34m:\u001b[0m\u001b[0;36m8\u001b[0m\u001b[0;34m]\u001b[0m\u001b[0;34m\u001b[0m\u001b[0m\n",
      "\u001b[0;32m~/anaconda3/lib/python3.6/site-packages/numpy/lib/npyio.py\u001b[0m in \u001b[0;36mloadtxt\u001b[0;34m(fname, dtype, comments, delimiter, converters, skiprows, usecols, unpack, ndmin)\u001b[0m\n\u001b[1;32m    941\u001b[0m             \u001b[0;32mwhile\u001b[0m \u001b[0;32mnot\u001b[0m \u001b[0mfirst_vals\u001b[0m\u001b[0;34m:\u001b[0m\u001b[0;34m\u001b[0m\u001b[0m\n\u001b[1;32m    942\u001b[0m                 \u001b[0mfirst_line\u001b[0m \u001b[0;34m=\u001b[0m \u001b[0mnext\u001b[0m\u001b[0;34m(\u001b[0m\u001b[0mfh\u001b[0m\u001b[0;34m)\u001b[0m\u001b[0;34m\u001b[0m\u001b[0m\n\u001b[0;32m--> 943\u001b[0;31m                 \u001b[0mfirst_vals\u001b[0m \u001b[0;34m=\u001b[0m \u001b[0msplit_line\u001b[0m\u001b[0;34m(\u001b[0m\u001b[0mfirst_line\u001b[0m\u001b[0;34m)\u001b[0m\u001b[0;34m\u001b[0m\u001b[0m\n\u001b[0m\u001b[1;32m    944\u001b[0m         \u001b[0;32mexcept\u001b[0m \u001b[0mStopIteration\u001b[0m\u001b[0;34m:\u001b[0m\u001b[0;34m\u001b[0m\u001b[0m\n\u001b[1;32m    945\u001b[0m             \u001b[0;31m# End of lines reached\u001b[0m\u001b[0;34m\u001b[0m\u001b[0;34m\u001b[0m\u001b[0m\n",
      "\u001b[0;32m~/anaconda3/lib/python3.6/site-packages/numpy/lib/npyio.py\u001b[0m in \u001b[0;36msplit_line\u001b[0;34m(line)\u001b[0m\n\u001b[1;32m    917\u001b[0m \u001b[0;34m\u001b[0m\u001b[0m\n\u001b[1;32m    918\u001b[0m         \"\"\"\n\u001b[0;32m--> 919\u001b[0;31m         \u001b[0mline\u001b[0m \u001b[0;34m=\u001b[0m \u001b[0masbytes\u001b[0m\u001b[0;34m(\u001b[0m\u001b[0mline\u001b[0m\u001b[0;34m)\u001b[0m\u001b[0;34m\u001b[0m\u001b[0m\n\u001b[0m\u001b[1;32m    920\u001b[0m         \u001b[0;32mif\u001b[0m \u001b[0mcomments\u001b[0m \u001b[0;32mis\u001b[0m \u001b[0;32mnot\u001b[0m \u001b[0;32mNone\u001b[0m\u001b[0;34m:\u001b[0m\u001b[0;34m\u001b[0m\u001b[0m\n\u001b[1;32m    921\u001b[0m             \u001b[0mline\u001b[0m \u001b[0;34m=\u001b[0m \u001b[0mregex_comments\u001b[0m\u001b[0;34m.\u001b[0m\u001b[0msplit\u001b[0m\u001b[0;34m(\u001b[0m\u001b[0masbytes\u001b[0m\u001b[0;34m(\u001b[0m\u001b[0mline\u001b[0m\u001b[0;34m)\u001b[0m\u001b[0;34m,\u001b[0m \u001b[0mmaxsplit\u001b[0m\u001b[0;34m=\u001b[0m\u001b[0;36m1\u001b[0m\u001b[0;34m)\u001b[0m\u001b[0;34m[\u001b[0m\u001b[0;36m0\u001b[0m\u001b[0;34m]\u001b[0m\u001b[0;34m\u001b[0m\u001b[0m\n",
      "\u001b[0;32m~/anaconda3/lib/python3.6/site-packages/numpy/compat/py3k.py\u001b[0m in \u001b[0;36masbytes\u001b[0;34m(s)\u001b[0m\n\u001b[1;32m     33\u001b[0m         \u001b[0;32mif\u001b[0m \u001b[0misinstance\u001b[0m\u001b[0;34m(\u001b[0m\u001b[0ms\u001b[0m\u001b[0;34m,\u001b[0m \u001b[0mbytes\u001b[0m\u001b[0;34m)\u001b[0m\u001b[0;34m:\u001b[0m\u001b[0;34m\u001b[0m\u001b[0m\n\u001b[1;32m     34\u001b[0m             \u001b[0;32mreturn\u001b[0m \u001b[0ms\u001b[0m\u001b[0;34m\u001b[0m\u001b[0m\n\u001b[0;32m---> 35\u001b[0;31m         \u001b[0;32mreturn\u001b[0m \u001b[0mstr\u001b[0m\u001b[0;34m(\u001b[0m\u001b[0ms\u001b[0m\u001b[0;34m)\u001b[0m\u001b[0;34m.\u001b[0m\u001b[0mencode\u001b[0m\u001b[0;34m(\u001b[0m\u001b[0;34m'latin1'\u001b[0m\u001b[0;34m)\u001b[0m\u001b[0;34m\u001b[0m\u001b[0m\n\u001b[0m\u001b[1;32m     36\u001b[0m \u001b[0;34m\u001b[0m\u001b[0m\n\u001b[1;32m     37\u001b[0m     \u001b[0;32mdef\u001b[0m \u001b[0masstr\u001b[0m\u001b[0;34m(\u001b[0m\u001b[0ms\u001b[0m\u001b[0;34m)\u001b[0m\u001b[0;34m:\u001b[0m\u001b[0;34m\u001b[0m\u001b[0m\n",
      "\u001b[0;31mUnicodeEncodeError\u001b[0m: 'latin-1' codec can't encode character '\\ufeff' in position 0: ordinal not in range(256)"
     ]
    }
   ],
   "source": [
    "# MLP for Pima Indians Dataset with 10-fold cross validation via sklearn\n",
    "from keras.models import Sequential\n",
    "from keras.layers import Dense\n",
    "from keras.wrappers.scikit_learn import KerasClassifier\n",
    "from sklearn.model_selection import StratifiedKFold\n",
    "from sklearn.model_selection import cross_val_score\n",
    "import numpy\n",
    " \n",
    "# Function to create model, required for KerasClassifier\n",
    "def create_model():\n",
    "\t# create model\n",
    "\tmodel = Sequential()\n",
    "\tmodel.add(Dense(12, input_dim=8, activation='relu'))\n",
    "\tmodel.add(Dense(8, activation='relu'))\n",
    "\tmodel.add(Dense(1, activation='sigmoid'))\n",
    "\t# Compile model\n",
    "\tmodel.compile(loss='binary_crossentropy', optimizer='adam', metrics=['accuracy'])\n",
    "\treturn model\n",
    " \n",
    "# fix random seed for reproducibility\n",
    "seed = 7\n",
    "numpy.random.seed(seed)\n",
    "# load pima indians dataset\n",
    "dataset = numpy.loadtxt(\"/Users/padma/Desktop/Mahit/science-fair-autism/pima-indian-diabetes.csv\", delimiter=\",\")\n",
    "# split into input (X) and output (Y) variables\n",
    "X = dataset[:,0:8]\n",
    "Y = dataset[:,8]\n",
    "# create model\n",
    "model = KerasClassifier(build_fn=create_model, epochs=150, batch_size=10, verbose=0)\n",
    "# evaluate using 10-fold cross validation\n",
    "kfold = StratifiedKFold(n_splits=10, shuffle=True, random_state=seed)\n",
    "results = cross_val_score(model, X, Y, cv=kfold)\n",
    "print(results.mean())"
   ]
  },
  {
   "cell_type": "code",
   "execution_count": null,
   "metadata": {},
   "outputs": [],
   "source": [
    "# Create your first MLP in Keras\n",
    "from keras.models import Sequential\n",
    "from keras.layers import Dense\n",
    "import numpy\n",
    "# fix random seed for reproducibility\n",
    "numpy.random.seed(7)\n",
    "# load pima indians dataset\n",
    "dataset = numpy.loadtxt(\"/Users/padma/Desktop/Mahit/science-fair-autism/pima-indian-diabetes.txt\",delimiter=\",\")\n",
    "# split into input (X) and output (Y) variables\n",
    "X = dataset[:,0:8]\n",
    "Y = dataset[:,8]\n",
    "# create model\n",
    "model = Sequential()\n",
    "model.add(Dense(12, input_dim=8, activation='relu'))\n",
    "model.add(Dense(8, activation='relu'))\n",
    "model.add(Dense(1, activation='sigmoid'))\n",
    "# Compile model\n",
    "model.compile(loss='binary_crossentropy', optimizer='adam', metrics=['accuracy'])\n",
    "# Fit the model\n",
    "model.fit(X, Y, epochs=150, batch_size=10)\n",
    "# evaluate the model\n",
    "scores = model.evaluate(X, Y)\n",
    "print(\"\\n%s: %.2f%%\" % (model.metrics_names[1], scores[1]*100))"
   ]
  },
  {
   "cell_type": "code",
   "execution_count": null,
   "metadata": {},
   "outputs": [],
   "source": [
    "# Create your first MLP in Keras\n",
    "from keras.models import Sequential\n",
    "from keras.layers import Dense\n",
    "import numpy\n",
    "# fix random seed for reproducibility\n",
    "numpy.random.seed(7)\n",
    "# load autism dataset\n",
    "# dataset = numpy.loadtxt(\"/Users/padma/Desktop/Mahit/science-fair-autism/pima-indian-diabetes.txt\",delimiter=\",\")\n",
    "# dataset=pd.read_csv('/Users/padma/Desktop/Mahit/science-fair-autism/Autism-Adult-Data-Processed.csv')\n",
    "dataset=pd.read_csv('/Users/padma/Desktop/Mahit/science-fair-autism/Autism-Adult-Data-Processed.csv')\n",
    "# split into input (X) and output (Y) variables\n",
    "array = dataset.values\n",
    "X = array[:,0:18]\n",
    "Y = array[:,18]\n",
    "# create model\n",
    "model = Sequential()\n",
    "model.add(Dense(12, input_dim=8, activation='relu'))\n",
    "model.add(Dense(8, activation='relu'))\n",
    "model.add(Dense(1, activation='sigmoid'))\n",
    "# Compile model\n",
    "model.compile(loss='binary_crossentropy', optimizer='adam', metrics=['accuracy'])\n",
    "# Fit the model\n",
    "model.fit(X, Y, epochs=150, batch_size=10)\n",
    "# evaluate the model\n",
    "scores = model.evaluate(X, Y)\n",
    "print(\"\\n%s: %.2f%%\" % (model.metrics_names[1], scores[1]*100))"
   ]
  },
  {
   "cell_type": "code",
   "execution_count": null,
   "metadata": {
    "collapsed": true
   },
   "outputs": [],
   "source": []
  },
  {
   "cell_type": "code",
   "execution_count": null,
   "metadata": {
    "collapsed": true
   },
   "outputs": [],
   "source": []
  }
 ],
 "metadata": {
  "kernelspec": {
   "display_name": "Python 3",
   "language": "python",
   "name": "python3"
  },
  "language_info": {
   "codemirror_mode": {
    "name": "ipython",
    "version": 3
   },
   "file_extension": ".py",
   "mimetype": "text/x-python",
   "name": "python",
   "nbconvert_exporter": "python",
   "pygments_lexer": "ipython3",
   "version": "3.6.3"
  }
 },
 "nbformat": 4,
 "nbformat_minor": 2
}
